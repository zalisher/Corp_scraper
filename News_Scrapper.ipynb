{
 "cells": [
  {
   "cell_type": "code",
   "execution_count": 3,
   "metadata": {},
   "outputs": [
    {
     "data": {
      "text/plain": [
       "<sqlite3.Cursor at 0x21188165c70>"
      ]
     },
     "execution_count": 3,
     "metadata": {},
     "output_type": "execute_result"
    }
   ],
   "source": [
    "from bs4 import BeautifulSoup as bs\n",
    "import time\n",
    "import sqlite3 \n",
    "import re\n",
    "from datetime import datetime\n",
    "from selenium import webdriver\n",
    "import json\n",
    "from urllib.request import urlopen\n",
    "from selenium.webdriver.common.keys import Keys\n",
    "import pandas as pd\n",
    "import os\n",
    "\n",
    "\n",
    "\n",
    "\n",
    "\n",
    "conn = sqlite3.connect('db.sqlite3')\n",
    "c = conn.cursor()\n",
    "c.execute('''CREATE TABLE IF NOT EXISTS news\n",
    "        (company_id text, dtime datetime, news text, news_url text UNIQUE)''')\n",
    "\n"
   ]
  },
  {
   "cell_type": "code",
   "execution_count": null,
   "metadata": {},
   "outputs": [],
   "source": []
  },
  {
   "cell_type": "markdown",
   "metadata": {},
   "source": [
    "# Check updates for specific Firms"
   ]
  },
  {
   "cell_type": "code",
   "execution_count": 67,
   "metadata": {},
   "outputs": [],
   "source": [
    "dictio = {}\n",
    "dictio['ПАО Сбербанк'] = 3043\n",
    "name = dictio.keys()\n",
    "\n",
    "\n",
    "\n",
    "\n",
    "\n",
    "def search_by_companies(*companies):\n",
    "    for company in companies:\n",
    "#         create the dict to control the number of new events\n",
    "        company_pre = {company:0}\n",
    "        request = urlopen('https://www.e-disclosure.ru/Event/Page?companyId=' + str(dictio[company]) +'&year=2020')\n",
    "        soup = bs(request, 'lxml')\n",
    "\n",
    "        \n",
    "        # It is supposed to infinitely parse ---> don't need to check more than 20 first values\n",
    "        result = soup.find_all('td')[:15]\n",
    "\n",
    "        if len(result) > company_pre[company]:\n",
    "            i = 1\n",
    "            for td in range ((len(result) - result_pre)//3):\n",
    "\n",
    "                    print(name, 'Дата публикации - ' + str(result[i].text),result[i+1].text,result[i+1].a.get('href'),sep = '\\n')\n",
    "                    i+=3\n",
    "            company_pre[company] = len(result)\n",
    "\n",
    "search_by_companies('ПАО Сбербанк')"
   ]
  },
  {
   "cell_type": "markdown",
   "metadata": {},
   "source": [
    "# SQL database"
   ]
  },
  {
   "cell_type": "markdown",
   "metadata": {},
   "source": [
    "# Test and training"
   ]
  },
  {
   "cell_type": "code",
   "execution_count": 50,
   "metadata": {},
   "outputs": [
    {
     "name": "stdout",
     "output_type": "stream",
     "text": [
      "('AC/DC',) ('Accept',) ('Aerosmith',)\n"
     ]
    }
   ],
   "source": [
    "conn = sqlite3.connect('Chinook_Sqlite.sqlite')\n",
    "\n",
    "# Создаем курсор - это специальный объект который делает запросы и получает их результаты\n",
    "cursor = conn.cursor()\n",
    "\n",
    "cursor.execute(\"SELECT Name FROM Artist LIMIT 3\")\n",
    "\n",
    "# Получаем результат сделанного запроса\n",
    "results = cursor.fetchall()\n",
    "results2 =  cursor.fetchall()\n",
    "\n",
    "print(*results)   # [('A Cor Do Som',), ('Aaron Copland & London Symphony Orchestra',), ('Aaron Goldberg',)]\n",
    "\n",
    "# Не забываем закрыть соединение с базой данных\n",
    "conn.close()"
   ]
  },
  {
   "cell_type": "markdown",
   "metadata": {},
   "source": [
    "# Working "
   ]
  },
  {
   "cell_type": "code",
   "execution_count": 7,
   "metadata": {},
   "outputs": [
    {
     "name": "stdout",
     "output_type": "stream",
     "text": [
      "[('alish',)]\n"
     ]
    }
   ],
   "source": [
    "conn = sqlite3.connect('Interfax_bot.sqlite')\n",
    "\n",
    "cursor = conn.cursor()\n",
    "\n",
    "\n",
    "cursor.execute(\"select Client_name from Clients\")\n",
    "print(cursor.fetchall())"
   ]
  },
  {
   "cell_type": "markdown",
   "metadata": {},
   "source": [
    "### Adding new clients"
   ]
  },
  {
   "cell_type": "code",
   "execution_count": 97,
   "metadata": {},
   "outputs": [],
   "source": [
    "conn = sqlite3.connect('Interfax_bot.sqlite')\n",
    "\n",
    "cursor = conn.cursor()\n",
    "\n",
    "\n",
    "client_chat = 779224126\n",
    "client_companies = '[2314,4526,124]'\n",
    "\n",
    "# Данные нужно передавать кортежем. Даже одну запись\n",
    "\n",
    "cursor.execute(\"insert into Clients values (Null, ?, ?);\", (client_chat, client_companies))\n",
    "\n",
    "conn.commit()"
   ]
  },
  {
   "cell_type": "markdown",
   "metadata": {},
   "source": [
    "#### Function to retrieve company codes as a set"
   ]
  },
  {
   "cell_type": "code",
   "execution_count": 104,
   "metadata": {},
   "outputs": [],
   "source": [
    "def retrieve_code(string):\n",
    "    dic = list(map(str, string.replace('{','').replace('}','').split(',')))\n",
    "    dic = set(dic)\n",
    "    return dic"
   ]
  },
  {
   "cell_type": "code",
   "execution_count": 105,
   "metadata": {},
   "outputs": [
    {
     "name": "stdout",
     "output_type": "stream",
     "text": [
      "{'3445', '1345', '4252', '2156'}\n"
     ]
    }
   ],
   "source": [
    "print(retrieve_code('{3445,4252,2156,1345}'))"
   ]
  },
  {
   "cell_type": "markdown",
   "metadata": {},
   "source": [
    "#### Function to create a string from a set"
   ]
  },
  {
   "cell_type": "code",
   "execution_count": 115,
   "metadata": {},
   "outputs": [],
   "source": [
    "def create_string(array):\n",
    "    string = '{'\n",
    "    for i in array:\n",
    "        string = string + str(i) + ','\n",
    "    string = string[:-1] + '}'\n",
    "    return string"
   ]
  },
  {
   "cell_type": "code",
   "execution_count": 116,
   "metadata": {},
   "outputs": [
    {
     "name": "stdout",
     "output_type": "stream",
     "text": [
      "{5434,670,134,243}\n"
     ]
    }
   ],
   "source": [
    "i = set([5434, 134, 670, 243])\n",
    "\n",
    "print(create_string(i))"
   ]
  },
  {
   "cell_type": "code",
   "execution_count": null,
   "metadata": {},
   "outputs": [],
   "source": []
  },
  {
   "cell_type": "code",
   "execution_count": null,
   "metadata": {},
   "outputs": [],
   "source": []
  },
  {
   "cell_type": "code",
   "execution_count": 94,
   "metadata": {},
   "outputs": [],
   "source": [
    "clients = {779224126 : []} # a new client's chat_id is added ones he presses /start\n",
    "\n",
    "diction ={'18278':['Ale','Ma','Joh'], '2464':['a','b','c']} # the reverse dictio containing company numbers and clients' chat_id\n"
   ]
  },
  {
   "cell_type": "markdown",
   "metadata": {},
   "source": [
    "## Dictionary with companies - Done"
   ]
  },
  {
   "cell_type": "code",
   "execution_count": 124,
   "metadata": {},
   "outputs": [],
   "source": [
    "url = 'https://www.e-disclosure.ru/poisk-po-soobshheniyam'\n",
    "\n",
    "driver = webdriver.Firefox()\n",
    "driver.implicitly_wait(30)\n",
    "driver.get(url)\n",
    "\n",
    "python_button = driver.find_element_by_id('butt') #FHSU\n",
    "python_button.click() #click fhsu link\n",
    "\n",
    "python_button2 = driver.find_element_by_id('pageSize')\n",
    "python_button2.click()\n",
    "\n",
    "soup = bs(driver.page_source, 'lxml')\n",
    "res = soup.find_all('a')\n",
    "# select all the relevant passages from the table. Empirically found them.\n",
    "companies = {}\n",
    "for a  in range(46,2445,2):\n",
    "#     remove comma only when need to create a dict\n",
    "#     companies[res[a].text] = res[a].get('href')[-5:]\n",
    "    print(res[a].text, res[a].get('href'))\n",
    "\n",
    "driver.quit()\n",
    "\n",
    "for i in companies.keys():\n",
    "    if companies[i].startswith('='):\n",
    "        companies[i] = companies[i].replace('=','')\n",
    "\n",
    "    if companies[i].startswith('d='):\n",
    "        companies[i] = companies[i].replace('d=','')\n",
    "companies"
   ]
  },
  {
   "cell_type": "code",
   "execution_count": 113,
   "metadata": {},
   "outputs": [],
   "source": [
    "company = list(companies.keys())\n",
    "comp_id = list(companies.values())\n",
    "\n",
    "data = {'company':company, 'comp_id':comp_id}\n",
    "df = pd.DataFrame.from_dict(data)\n",
    "df"
   ]
  },
  {
   "cell_type": "code",
   "execution_count": 123,
   "metadata": {},
   "outputs": [],
   "source": [
    "df.to_csv('interfax_companies.csv', encoding = 'windows - 1251')"
   ]
  },
  {
   "cell_type": "markdown",
   "metadata": {},
   "source": [
    "# Telegram bot"
   ]
  },
  {
   "cell_type": "markdown",
   "metadata": {},
   "source": [
    "### News check"
   ]
  },
  {
   "cell_type": "code",
   "execution_count": 3,
   "metadata": {},
   "outputs": [],
   "source": [
    "def news_check(message):\n",
    "    url = 'https://www.e-disclosure.ru/'\n",
    "# set up driver for working with js - BS4 will not find the table \n",
    "    driver = webdriver.Firefox()\n",
    "    driver.implicitly_wait(30)\n",
    "    driver.get(url)\n",
    "# press button 'search'\n",
    "    python_button = driver.find_element_by_id('butt') #FHSU\n",
    "    python_button.click() #click fhsu link\n",
    "    \n",
    "    soup = bs(driver.page_source, 'lxml')\n",
    "    res = soup.find_all('a')\n",
    "\n",
    "    for a in range(42,72,2):\n",
    "        bot.send_message(message.chat.id, res[a].text + '\\n' + str(res[a+1].text) + ' ' + str(res[a+1].get('href')))\n"
   ]
  },
  {
   "cell_type": "markdown",
   "metadata": {},
   "source": [
    "### Subscription module"
   ]
  },
  {
   "cell_type": "markdown",
   "metadata": {},
   "source": [
    "#### Finding table with last 20 news "
   ]
  },
  {
   "cell_type": "code",
   "execution_count": 48,
   "metadata": {},
   "outputs": [],
   "source": [
    "def webdriver()\n",
    "    url = 'https://www.e-disclosure.ru/poisk-po-soobshheniyam'\n",
    "\n",
    "    driver = webdriver.Firefox()\n",
    "    driver.implicitly_wait(30)\n",
    "    driver.get(url)\n",
    "\n",
    "    python_button = driver.find_element_by_id('butt') #FHSU\n",
    "    python_button.click() #click fhsu link\n",
    "    #  Выбрать пункт все и нажать\n",
    "    python_button2 = driver.find_element_by_xpath('//*[@id=\"pageSize\"]/option[2]')\n",
    "    python_button2.click()\n",
    "\n",
    "    time.sleep(4)\n",
    "    soup = bs(driver.page_source, 'lxml')\n",
    "    res = soup.find_all('tbody')\n",
    "\n",
    "    table = res[-9]\n",
    "\n",
    "    driver.quit()\n"
   ]
  },
  {
   "cell_type": "markdown",
   "metadata": {},
   "source": [
    "### Retrieving code"
   ]
  },
  {
   "cell_type": "code",
   "execution_count": 16,
   "metadata": {},
   "outputs": [
    {
     "name": "stdout",
     "output_type": "stream",
     "text": [
      "456\n"
     ]
    }
   ],
   "source": [
    "def firm_code_from_link(link):\n",
    "    equal = link.rfind('=')\n",
    "    code = link[equal+1:]\n",
    "    return code"
   ]
  },
  {
   "cell_type": "markdown",
   "metadata": {},
   "source": [
    "### Sending news to all the firms subscribers"
   ]
  },
  {
   "cell_type": "code",
   "execution_count": null,
   "metadata": {},
   "outputs": [],
   "source": [
    "def subscribers(link,info):\n",
    "    global diction\n",
    "    \n",
    "    code = firm_code_from_link(link)\n",
    "    \n",
    "    for i in diction[code]:\n",
    "        bot.send_message(i,info)\n",
    "        "
   ]
  },
  {
   "cell_type": "markdown",
   "metadata": {},
   "source": [
    "#### Choosing only new events with the help of date-time and returning them"
   ]
  },
  {
   "cell_type": "code",
   "execution_count": 37,
   "metadata": {
    "scrolled": true
   },
   "outputs": [],
   "source": [
    "td_last = 160520201800\n",
    "def send_news():\n",
    "\n",
    "    global td_last\n",
    "    \n",
    "    #  Here i need to define all the variables I will use in this module\n",
    "    def number_date(text):\n",
    "        '''Function to convert date into an int for comparison and searching relevant news'''\n",
    "        pre_res = text.split()\n",
    "        one = pre_res[0].replace('.','') \n",
    "        two = pre_res[1].replace(':','')\n",
    "        res = int(one+two)\n",
    "        return res\n",
    "\n",
    "\n",
    "\n",
    "    iterat = table.contents  # all tr in the table\n",
    "\n",
    "\n",
    "    for child in range(0,len(iterat),2):\n",
    "    # for some reason there are empty cells in [0],[2],[4] and etc. rows, so I need to go through odd ones\n",
    "        date = iterat[child].contents[1].text # first td with the date and time\n",
    "        if number_date(date) > td_last:\n",
    "    #         iterat[child].contents[3] is the second td containing company name and the event name. However, there are two <a> tags, \n",
    "    #         one with company name, the other with the event. Therefore another method, contents[0].text - company and contents[3].text - event, is used.\n",
    "            info = str(iterat[child].contents[3].contents[0].text) + '\\n' + str(iterat[child].contents[3].contents[3].text) + ' ' + str(iterat[child].contents[3].contents[3].get('href'))\n",
    "            subscribers(iterat[child].contents[3].contents[0].get('href'),info)\n",
    "    # td_last is the last time we checked news - it is equiualent to the top row news data in the current session.\n",
    "\n",
    "    \n",
    "    td_last = number_date(iterat[0].contents[1].text) \n",
    "\n",
    "\n"
   ]
  },
  {
   "cell_type": "markdown",
   "metadata": {},
   "source": [
    "### The Bot"
   ]
  },
  {
   "cell_type": "code",
   "execution_count": 49,
   "metadata": {},
   "outputs": [],
   "source": [
    "import telebot\n",
    "\n",
    "token = '1145245715:AAGmd4yheC8AlBpZ5ssHqQm9-1hpt_mkAT0'\n",
    "\n",
    "bot = telebot.TeleBot(token)\n",
    "\n",
    "keyboard1 = telebot.types.ReplyKeyboardMarkup()\n",
    "keyboard1.row('Последние новости', 'Выбрать компании')\n",
    "\n",
    "keyboard2 = telebot.types.InlineKeyboardMarkup(); #наша клавиатура\n",
    "key_one = telebot.types.InlineKeyboardButton(text='Новости', callback_data='news'); #кнопка «Да»\n",
    "keyboard2.add(key_one); #добавляем кнопку в клавиатуру\n",
    "key_two = telebot.types.InlineKeyboardButton(text='Выбрать компании', callback_data='companies');\n",
    "keyboard2.add(key_two);\n",
    "\n",
    "\n",
    "\n",
    "@bot.message_handler(commands=['start'])\n",
    "def start_message(message):\n",
    "    bot.send_message(message.chat.id, 'Привет, я бот раскрытия. В текущей версии я буду отправлять тебе новости о последних раскрытиях в реальном времени.')\n",
    "    bot.send_message(message.chat.id, 'Какую опцию выберешь?', reply_markup = keyboard2)\n",
    "    chat_id = message.chat.id\n",
    "#     I need to add clients chat_id to SQLite database later\n",
    "    global clients\n",
    "    clients[chat_id] = []\n",
    "\n",
    "@bot.message_handler(commands=['end'])\n",
    "def end_msg(message):\n",
    "    bot.send_message(message.chat.id, 'Спасибо, теперь я буду отправлять информацию по выбранным компаниям в реальном времени')\n",
    "    \n",
    "@bot.message_handler(content_types = ['text'])\n",
    "def initiate(message):\n",
    "    msg = bot.send_message(message.chat.id, 'Напиши название компании')\n",
    "    bot.register_next_step_handler(msg,choice)\n",
    "def choice(message):\n",
    "    text = message.text\n",
    "    if text == 'Сбербанк':\n",
    "        bot.send_message(message.chat.id, 'Добавил')\n",
    "        bot.send_message(message.chat.id, 'Если нужна еще фирма, напиши ее название. Когда выберешь все компании, напиши \"/end\".')\n",
    "    \n",
    "    \n",
    "    \n",
    "        \n",
    "\n",
    "@bot.callback_query_handler(func=lambda call: True)\n",
    "def callback_worker(call):\n",
    "    res = call.message\n",
    "    if call.data == \"news\": #call.data это callback_data, которую мы указали при объявлении кнопки\n",
    "        news_check(res)\n",
    "    elif call.data == \"companies\":\n",
    "        flow_news(res)\n",
    "        \n",
    "        \n",
    "        \n",
    "\n",
    "bot.polling()"
   ]
  },
  {
   "cell_type": "code",
   "execution_count": 47,
   "metadata": {},
   "outputs": [
    {
     "name": "stdout",
     "output_type": "stream",
     "text": [
      "{'18278': ['Ale', 'Ma', 'Joh'], '2464': ['a', 'b', 'c'], 779224126: ''}\n"
     ]
    }
   ],
   "source": [
    "print(diction)"
   ]
  },
  {
   "cell_type": "markdown",
   "metadata": {},
   "source": [
    "# Check daily news"
   ]
  },
  {
   "cell_type": "code",
   "execution_count": 18,
   "metadata": {},
   "outputs": [],
   "source": []
  },
  {
   "cell_type": "code",
   "execution_count": null,
   "metadata": {},
   "outputs": [],
   "source": []
  },
  {
   "cell_type": "code",
   "execution_count": null,
   "metadata": {},
   "outputs": [],
   "source": []
  },
  {
   "cell_type": "code",
   "execution_count": null,
   "metadata": {},
   "outputs": [],
   "source": []
  },
  {
   "cell_type": "code",
   "execution_count": null,
   "metadata": {},
   "outputs": [],
   "source": []
  },
  {
   "cell_type": "code",
   "execution_count": null,
   "metadata": {},
   "outputs": [],
   "source": []
  },
  {
   "cell_type": "code",
   "execution_count": null,
   "metadata": {},
   "outputs": [],
   "source": []
  },
  {
   "cell_type": "code",
   "execution_count": 23,
   "metadata": {},
   "outputs": [
    {
     "name": "stdout",
     "output_type": "stream",
     "text": [
      "[]\n"
     ]
    }
   ],
   "source": [
    "def scraping_data():\n",
    "    news_list= []\n",
    "    news_adress_list = []\n",
    "    company_link_list = []\n",
    "\n",
    "    \n",
    "    r = urlopen(base_domain)\n",
    "    soup = bs(r, 'lxml')\n",
    "\n",
    "    a = soup.find_all('div',class_='tab selected')\n",
    "    print(a)\n",
    "\n",
    "    \n",
    "    \n",
    "scraping_data()\n",
    "#     for a in soup.select('[class*=live] a[href*=\"www.e-disclosure.ru/portal/event.aspx?\"]'):\n",
    "#         news_adress_list.append(a.get('href'))\n",
    "#     for a in soup.select('[class*=live] a[href*=\"www.e-disclosure.ru/portal/company.aspx?\"]'):\n",
    "#         company_link_list.append(re.sub(\"[^0-9]\",\"\", a.get('href')[-6:]))\n",
    "\n",
    "\n",
    "# don't know how to work yet        \n",
    "#     for i in range(len(company_link_list)):\n",
    "#     \tc.execute(\"INSERT OR IGNORE INTO news_newsfeed (company_id, added_at, news_short, news_url) VALUES (?,?,?,?)\",(company_link_list[i],datetime.now(),news_list[i],news_adress_list[i]))\n",
    "#     conn.commit()\n",
    "#     time.sleep(30)\n",
    "\n"
   ]
  },
  {
   "cell_type": "markdown",
   "metadata": {},
   "source": [
    "# Testing"
   ]
  },
  {
   "cell_type": "code",
   "execution_count": 7,
   "metadata": {},
   "outputs": [
    {
     "data": {
      "text/plain": [
       "[]"
      ]
     },
     "execution_count": 7,
     "metadata": {},
     "output_type": "execute_result"
    }
   ],
   "source": [
    "scraping_data()"
   ]
  },
  {
   "cell_type": "code",
   "execution_count": null,
   "metadata": {},
   "outputs": [],
   "source": [
    "def inf_scraping():\n",
    "    while True:\n",
    "        scraping_data()\n",
    "\n",
    "inf_scraping()\n",
    "\n",
    "companies = []\n",
    "companies2 = []\n",
    "\n",
    "\n",
    "with open('emitents.csv', 'r') as file:\n",
    "    for row in file:\n",
    "        companies.append([row])\n",
    "\n",
    "for i in companies:\n",
    "    for b in i:\n",
    "        companies2.append(b.split(';'))\n",
    "\n",
    "companies_final = companies2[1:]\n",
    "\n",
    "c.execute('''CREATE TABLE IF NOT EXISTS companies_companies\n",
    "    (company_id INTEGER UNIQUE, ticker TEXT, company_full_name TEXT, company_short_name TEXT, official_site TEXT, ceo TEXT, industry TEXT, company_description TEXT)''')\n",
    "\n",
    "for i in companies_final:\n",
    "    data = (i[0], i[1], i[2] ,i[4] ,i[5] ,i[6] ,i[7] ,i[8])\n",
    "    c.execute(\"INSERT INTO companies_companies (company_id,ticker,company_full_name,company_short_name,official_site,ceo,industry,company_description) VALUES (?,?,?,?,?,?,?,?)\", data)\n",
    "    conn.commit()\n",
    "\n",
    "c.close()\n",
    "\n",
    "stocks = []\n",
    "\n",
    "with open('stocks.csv', 'r') as file:\n",
    "    for row in file:\n",
    "        stocks.append(row.split(';'))\n",
    "stocks = stocks[1:]\n",
    "for stocks_data in stocks:\n",
    "    c.execute('INSERT INTO companies_share (ticker, company_id, listing_level, instrument_type, nominal, currency, issue_amount) VALUES (?,?,?,?,?,?,?)', stocks_data)\n",
    "    conn.commit()\n",
    "c.close()"
   ]
  }
 ],
 "metadata": {
  "kernelspec": {
   "display_name": "Python 3",
   "language": "python",
   "name": "python3"
  },
  "language_info": {
   "codemirror_mode": {
    "name": "ipython",
    "version": 3
   },
   "file_extension": ".py",
   "mimetype": "text/x-python",
   "name": "python",
   "nbconvert_exporter": "python",
   "pygments_lexer": "ipython3",
   "version": "3.7.4"
  }
 },
 "nbformat": 4,
 "nbformat_minor": 2
}
