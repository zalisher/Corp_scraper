{
 "cells": [
  {
   "cell_type": "code",
   "execution_count": 1,
   "metadata": {},
   "outputs": [],
   "source": [
    "from bs4 import BeautifulSoup as bs\n",
    "import time\n",
    "import sqlite3 \n",
    "import re\n",
    "from datetime import datetime\n",
    "from selenium import webdriver\n",
    "import json\n",
    "from urllib.request import urlopen\n",
    "from selenium.webdriver.common.keys import Keys\n",
    "import pandas as pd\n",
    "import os"
   ]
  },
  {
   "cell_type": "code",
   "execution_count": null,
   "metadata": {},
   "outputs": [],
   "source": []
  },
  {
   "cell_type": "markdown",
   "metadata": {},
   "source": [
    "# Check updates for specific Firms"
   ]
  },
  {
   "cell_type": "code",
   "execution_count": 67,
   "metadata": {},
   "outputs": [],
   "source": [
    "dictio = {}\n",
    "dictio['ПАО Сбербанк'] = 3043\n",
    "name = dictio.keys()\n",
    "\n",
    "\n",
    "\n",
    "\n",
    "\n",
    "def search_by_companies(*companies):\n",
    "    for company in companies:\n",
    "#         create the dict to control the number of new events\n",
    "        company_pre = {company:0}\n",
    "        request = urlopen('https://www.e-disclosure.ru/Event/Page?companyId=' + str(dictio[company]) +'&year=2020')\n",
    "        soup = bs(request, 'lxml')\n",
    "\n",
    "        \n",
    "        # It is supposed to infinitely parse ---> don't need to check more than 20 first values\n",
    "        result = soup.find_all('td')[:15]\n",
    "\n",
    "        if len(result) > company_pre[company]:\n",
    "            i = 1\n",
    "            for td in range ((len(result) - result_pre)//3):\n",
    "\n",
    "                    print(name, 'Дата публикации - ' + str(result[i].text),result[i+1].text,result[i+1].a.get('href'),sep = '\\n')\n",
    "                    i+=3\n",
    "            company_pre[company] = len(result)\n",
    "\n",
    "search_by_companies('ПАО Сбербанк')"
   ]
  },
  {
   "cell_type": "markdown",
   "metadata": {},
   "source": [
    "# SQL database"
   ]
  },
  {
   "cell_type": "markdown",
   "metadata": {},
   "source": [
    "# Test and training"
   ]
  },
  {
   "cell_type": "code",
   "execution_count": 50,
   "metadata": {},
   "outputs": [
    {
     "name": "stdout",
     "output_type": "stream",
     "text": [
      "('AC/DC',) ('Accept',) ('Aerosmith',)\n"
     ]
    }
   ],
   "source": [
    "conn = sqlite3.connect('Chinook_Sqlite.sqlite')\n",
    "\n",
    "# Создаем курсор - это специальный объект который делает запросы и получает их результаты\n",
    "cursor = conn.cursor()\n",
    "\n",
    "cursor.execute(\"SELECT Name FROM Artist LIMIT 3\")\n",
    "\n",
    "# Получаем результат сделанного запроса\n",
    "results = cursor.fetchall()\n",
    "results2 =  cursor.fetchall()\n",
    "\n",
    "print(*results)   # [('A Cor Do Som',), ('Aaron Copland & London Symphony Orchestra',), ('Aaron Goldberg',)]\n",
    "\n",
    "# Не забываем закрыть соединение с базой данных\n",
    "conn.close()"
   ]
  },
  {
   "cell_type": "markdown",
   "metadata": {},
   "source": [
    "# Working "
   ]
  },
  {
   "cell_type": "code",
   "execution_count": 103,
   "metadata": {},
   "outputs": [
    {
     "name": "stdout",
     "output_type": "stream",
     "text": [
      "[('779224126',), ('779224126',), ('13455',), ('1345',), ('134588',), ('123',), ('987',)]\n"
     ]
    }
   ],
   "source": [
    "conn = sqlite3.connect('Interfax_bot.sqlite')\n",
    "\n",
    "cursor = conn.cursor()\n",
    "\n",
    "\n",
    "cursor.execute(\"select Client_name from Clients\")\n",
    "print(cursor.fetchall())"
   ]
  },
  {
   "cell_type": "markdown",
   "metadata": {},
   "source": [
    "### Adding new clients"
   ]
  },
  {
   "cell_type": "markdown",
   "metadata": {},
   "source": [
    "### Check new or existing clients"
   ]
  },
  {
   "cell_type": "markdown",
   "metadata": {},
   "source": [
    "#### Add client function"
   ]
  },
  {
   "cell_type": "code",
   "execution_count": 2,
   "metadata": {},
   "outputs": [],
   "source": [
    "# client_chat = 779224126\n",
    "# client_companies = '[2314,4526,124]'\n",
    "\n",
    "def add_client(client_chat,client_companies):\n",
    "    \"\"\" Adding new client to the database\"\"\"\n",
    "\n",
    "    conn = sqlite3.connect('Interfax_bot.sqlite')\n",
    "\n",
    "    cursor = conn.cursor()\n",
    "\n",
    "    # Данные нужно передавать кортежем. Даже одну запись\n",
    "    \n",
    "    \n",
    "    cursor.execute(\"insert into Clients values (Null, ?, ?);\", (client_chat, client_companies))\n",
    "\n",
    "    conn.commit()"
   ]
  },
  {
   "cell_type": "markdown",
   "metadata": {},
   "source": [
    "#### Add or update client function(The main function). Don't need to use the previous function, since it is included in the current one"
   ]
  },
  {
   "cell_type": "code",
   "execution_count": 3,
   "metadata": {},
   "outputs": [],
   "source": [
    "def add_update(name,companies):    \n",
    "    \n",
    "    conn = sqlite3.connect('Interfax_bot.sqlite')\n",
    "\n",
    "    cursor = conn.cursor()\n",
    "\n",
    "    cursor.execute('select ID from Clients where Client_name = ?;',(name,))\n",
    "\n",
    "    res = cursor.fetchone()\n",
    "\n",
    "    if res == None:\n",
    "        add_client(name,companies)\n",
    "    else:\n",
    "        cursor.execute('''update Clients \n",
    "                          set Client_name = ?, companies = ? \n",
    "                          where ID = ?;''',(name, companies, res[0]))\n",
    "        conn.commit() \n",
    "    # res[0] is the ID value itself, since fetchone returns a tuple\n",
    "       "
   ]
  },
  {
   "cell_type": "code",
   "execution_count": 89,
   "metadata": {},
   "outputs": [],
   "source": [
    "# add_update(987,'[12345,6789]')\n",
    "# add_update(1345,'[1234]')"
   ]
  },
  {
   "cell_type": "code",
   "execution_count": 86,
   "metadata": {},
   "outputs": [],
   "source": []
  },
  {
   "cell_type": "markdown",
   "metadata": {},
   "source": [
    "#### Function to retrieve company codes as a set"
   ]
  },
  {
   "cell_type": "code",
   "execution_count": 4,
   "metadata": {},
   "outputs": [],
   "source": [
    "def retrieve_code(string):\n",
    "    dic = list(map(str, string.replace('{','').replace('}','').split(',')))\n",
    "    dic = set(dic)\n",
    "    return dic"
   ]
  },
  {
   "cell_type": "code",
   "execution_count": 5,
   "metadata": {},
   "outputs": [
    {
     "name": "stdout",
     "output_type": "stream",
     "text": [
      "{'2156', '1345', '3445', '4252'}\n"
     ]
    }
   ],
   "source": [
    "print(retrieve_code('{3445,4252,2156,1345}'))"
   ]
  },
  {
   "cell_type": "markdown",
   "metadata": {},
   "source": [
    "#### Function to create a string from a set"
   ]
  },
  {
   "cell_type": "code",
   "execution_count": 6,
   "metadata": {},
   "outputs": [],
   "source": [
    "def create_string(array):\n",
    "    \n",
    "    string = '{'\n",
    "    for i in array:\n",
    "        if i == '':\n",
    "            continue\n",
    "        string = string + str(i) + ','\n",
    "    string = string[:-1] + '}'\n",
    "    return string"
   ]
  },
  {
   "cell_type": "code",
   "execution_count": 116,
   "metadata": {},
   "outputs": [
    {
     "name": "stdout",
     "output_type": "stream",
     "text": [
      "{5434,670,134,243}\n"
     ]
    }
   ],
   "source": [
    "i = set([5434, 134, 670, 243])\n",
    "\n",
    "print(create_string(i))"
   ]
  },
  {
   "cell_type": "code",
   "execution_count": 94,
   "metadata": {},
   "outputs": [],
   "source": [
    "clients = {779224126 : []} # a new client's chat_id is added ones he presses /start\n",
    "\n",
    "diction ={'18278':['Ale','Ma','Joh'], '2464':['a','b','c']} # the reverse dictio containing company numbers and clients' chat_id\n"
   ]
  },
  {
   "cell_type": "markdown",
   "metadata": {},
   "source": [
    "# Algorithm to add clients code to every company"
   ]
  },
  {
   "cell_type": "code",
   "execution_count": 7,
   "metadata": {},
   "outputs": [],
   "source": [
    "# This needs to be done at the moment the companies' set is created in the python/\n",
    "# At that moment I need to reverse it and add the client_chat to every company code in the other table\n",
    "# I will need to add the mechanism of checking the existing and -non-existing company codes later\n",
    "\n",
    "\n",
    "# client = 1234\n",
    "# companies = '{1234,567,945}'\n",
    "\n",
    "def add_subscribers(companies,client):\n",
    "    \"\"\" Updates the set of subscribers for every company the new client has chosen\"\"\"\n",
    "    \n",
    "\n",
    "    conn = sqlite3.connect('Company_codes_to_clients.sqlite')\n",
    "    cursor = conn.cursor()\n",
    "    \n",
    "#   Since this module will work right after the client chooses companies, the given array of companies codes will be a set\n",
    "    for i in companies:\n",
    "\n",
    "    # retrieve the existing string of clients for the company\n",
    "    # convert it to set\n",
    "    # add the client to this set\n",
    "    # convert back to string\n",
    "    # update the table\n",
    "\n",
    "        cursor.execute('select Chat_codes from Companies where Company_name = ?;',(i,))\n",
    "        chat_codes = retrieve_code((cursor.fetchone()[0]))\n",
    "        chat_codes.add(client)\n",
    "        update = create_string(chat_codes)\n",
    "        cursor.execute(\"\"\"\n",
    "                        update Companies \n",
    "                        set Chat_codes = ?\n",
    "                        where Company_name = ?\n",
    "\n",
    "                        \"\"\",(update,i))\n",
    "        conn.commit()\n"
   ]
  },
  {
   "cell_type": "code",
   "execution_count": 35,
   "metadata": {},
   "outputs": [],
   "source": [
    "conn = sqlite3.connect('Interfax_bot.sqlite')"
   ]
  },
  {
   "cell_type": "code",
   "execution_count": 39,
   "metadata": {
    "scrolled": true
   },
   "outputs": [
    {
     "name": "stdout",
     "output_type": "stream",
     "text": [
      "\n",
      "\n"
     ]
    }
   ],
   "source": [
    "add_subscribers({567, 945},5876413)"
   ]
  },
  {
   "cell_type": "code",
   "execution_count": 17,
   "metadata": {},
   "outputs": [
    {
     "name": "stdout",
     "output_type": "stream",
     "text": [
      "{'', 'Alisher', '1234'}\n"
     ]
    }
   ],
   "source": [
    "cursor.execute('select Chat_codes from Companies where ID = 4')\n",
    "print(retrieve_code(cursor.fetchone()[0]))"
   ]
  },
  {
   "cell_type": "code",
   "execution_count": null,
   "metadata": {},
   "outputs": [],
   "source": []
  },
  {
   "cell_type": "markdown",
   "metadata": {},
   "source": [
    "# Algorithm to search and add companies(for the client)"
   ]
  },
  {
   "cell_type": "markdown",
   "metadata": {},
   "source": [
    "### Эту хрень нужно поставить внутрь хендлеров\n",
    "### Какая-то часть работает - это радует"
   ]
  },
  {
   "cell_type": "code",
   "execution_count": 8,
   "metadata": {},
   "outputs": [],
   "source": [
    "def choose_companies(message):\n",
    "    conn = sqlite3.connect('Company_codes_to_clients.sqlite')\n",
    "    cursor = conn.cursor()\n",
    "    cursor.execute('select Company_name from Companies')\n",
    "    companies = cursor.fetchall()\n",
    "    \n",
    "    comp_list = {}\n",
    "    \n",
    "    bot.send_message(message.chat.id, 'Напиши название компании.')\n",
    "    company = message.text\n",
    "    for i in companies:\n",
    "        if company in i[0]:\n",
    "            comp_list.add(i[0])\n",
    "            bot.send_message(message.chat.id, 'Добавил')\n",
    "\n",
    "        \n",
    "    bot.send_message(message.chat.id, 'Напиши имя следующей компании если хочешь добавить еще. Когда закончишь, напиши \"/end\"')\n",
    "    \n",
    "    return comp_list\n",
    "# for i in dictio.keys():\n",
    "#     if name.lower() in i: \n",
    "#         print(i)"
   ]
  },
  {
   "cell_type": "markdown",
   "metadata": {},
   "source": [
    "### Adding the company_names and codes to DB - Done"
   ]
  },
  {
   "cell_type": "code",
   "execution_count": 2,
   "metadata": {},
   "outputs": [
    {
     "data": {
      "text/html": [
       "<div>\n",
       "<style scoped>\n",
       "    .dataframe tbody tr th:only-of-type {\n",
       "        vertical-align: middle;\n",
       "    }\n",
       "\n",
       "    .dataframe tbody tr th {\n",
       "        vertical-align: top;\n",
       "    }\n",
       "\n",
       "    .dataframe thead th {\n",
       "        text-align: right;\n",
       "    }\n",
       "</style>\n",
       "<table border=\"1\" class=\"dataframe\">\n",
       "  <thead>\n",
       "    <tr style=\"text-align: right;\">\n",
       "      <th></th>\n",
       "      <th>company</th>\n",
       "      <th>comp_id</th>\n",
       "    </tr>\n",
       "  </thead>\n",
       "  <tbody>\n",
       "    <tr>\n",
       "      <td>0</td>\n",
       "      <td>АО \"ДОМ.РФ\"</td>\n",
       "      <td>1263</td>\n",
       "    </tr>\n",
       "    <tr>\n",
       "      <td>1</td>\n",
       "      <td>ПАО Банк ЗЕНИТ</td>\n",
       "      <td>538</td>\n",
       "    </tr>\n",
       "    <tr>\n",
       "      <td>2</td>\n",
       "      <td>ПАО \"Калужская сбытовая компания\"</td>\n",
       "      <td>5830</td>\n",
       "    </tr>\n",
       "    <tr>\n",
       "      <td>3</td>\n",
       "      <td>ПАО МОСОБЛБАНК</td>\n",
       "      <td>26831</td>\n",
       "    </tr>\n",
       "    <tr>\n",
       "      <td>4</td>\n",
       "      <td>ОАО \"Левенгук\"</td>\n",
       "      <td>31319</td>\n",
       "    </tr>\n",
       "    <tr>\n",
       "      <td>...</td>\n",
       "      <td>...</td>\n",
       "      <td>...</td>\n",
       "    </tr>\n",
       "    <tr>\n",
       "      <td>679</td>\n",
       "      <td>ОАО \"ВНИИМонтажспецстрой\"</td>\n",
       "      <td>9783</td>\n",
       "    </tr>\n",
       "    <tr>\n",
       "      <td>680</td>\n",
       "      <td>ОАО \"УПК Орел ГТУ\".</td>\n",
       "      <td>26714</td>\n",
       "    </tr>\n",
       "    <tr>\n",
       "      <td>681</td>\n",
       "      <td>АО \"Завод \"ЭКОМАШ\"</td>\n",
       "      <td>14048</td>\n",
       "    </tr>\n",
       "    <tr>\n",
       "      <td>682</td>\n",
       "      <td>АО ЛК \"Зерно Сибири\"</td>\n",
       "      <td>38133</td>\n",
       "    </tr>\n",
       "    <tr>\n",
       "      <td>683</td>\n",
       "      <td>ПАО \"ИCКЧ\"</td>\n",
       "      <td>7814</td>\n",
       "    </tr>\n",
       "  </tbody>\n",
       "</table>\n",
       "<p>684 rows × 2 columns</p>\n",
       "</div>"
      ],
      "text/plain": [
       "                               company comp_id\n",
       "0                          АО \"ДОМ.РФ\"    1263\n",
       "1                       ПАО Банк ЗЕНИТ     538\n",
       "2    ПАО \"Калужская сбытовая компания\"    5830\n",
       "3                       ПАО МОСОБЛБАНК   26831\n",
       "4                       ОАО \"Левенгук\"   31319\n",
       "..                                 ...     ...\n",
       "679          ОАО \"ВНИИМонтажспецстрой\"    9783\n",
       "680                ОАО \"УПК Орел ГТУ\".   26714\n",
       "681                 АО \"Завод \"ЭКОМАШ\"   14048\n",
       "682               АО ЛК \"Зерно Сибири\"   38133\n",
       "683                         ПАО \"ИCКЧ\"    7814\n",
       "\n",
       "[684 rows x 2 columns]"
      ]
     },
     "execution_count": 2,
     "metadata": {},
     "output_type": "execute_result"
    }
   ],
   "source": [
    "# I need to read it from Sqlite and not keep in memory, since the users will not add new companies constantly\n",
    "\n",
    "companies_names = pd.read_csv('interfax_companies.csv', encoding = 'windows-1251', index_col = 0)\n",
    "\n",
    "companies = companies_names['company'].to_list()\n",
    "ids = companies_names['comp_id'].to_list()\n",
    "\n",
    "dictio = {}\n",
    "companies_low = [i.lower() for i in companies]\n",
    "\n",
    "for i in range(len(companies)):\n",
    "    dictio[companies_low[i]] = ids[i]\n",
    "print(dictio)\n",
    "\n",
    "\n",
    "# UNCOMMENT THIS WHEN NEED TO UPDATE THE DATABASE - BUT BE CAREFUL. IT WILL REMOVE ALL THE EXISTING CLIENTS FOR EACH COMPANY\n",
    "# SO CREATE THE DICTION WITH ONLY NEW COMPANIES AND DO THAT\n",
    "\n",
    "# conn = sqlite3.connect('Company_codes_to_clients.sqlite')\n",
    "\n",
    "# cursor = conn.cursor()\n",
    "\n",
    "\n",
    "# for i in range(len(companies)):\n",
    "#     cursor.execute('insert into Companies values (Null, ?,?,?)',(companies_low[i],ids[i],'{}'))\n",
    "# conn.commit()"
   ]
  },
  {
   "cell_type": "markdown",
   "metadata": {},
   "source": [
    "# Telegram bot"
   ]
  },
  {
   "cell_type": "markdown",
   "metadata": {},
   "source": [
    "### News check"
   ]
  },
  {
   "cell_type": "code",
   "execution_count": 3,
   "metadata": {},
   "outputs": [],
   "source": [
    "def news_check(message):\n",
    "    url = 'https://www.e-disclosure.ru/'\n",
    "# set up driver for working with js - BS4 will not find the table \n",
    "    driver = webdriver.Firefox()\n",
    "    driver.implicitly_wait(30)\n",
    "    driver.get(url)\n",
    "# press button 'search'\n",
    "    python_button = driver.find_element_by_id('butt') #FHSU\n",
    "    python_button.click() #click fhsu link\n",
    "    \n",
    "    soup = bs(driver.page_source, 'lxml')\n",
    "    res = soup.find_all('a')\n",
    "\n",
    "    for a in range(42,72,2):\n",
    "        bot.send_message(message.chat.id, res[a].text + '\\n' + str(res[a+1].text) + ' ' + str(res[a+1].get('href')))\n"
   ]
  },
  {
   "cell_type": "markdown",
   "metadata": {},
   "source": [
    "### Subscription module"
   ]
  },
  {
   "cell_type": "markdown",
   "metadata": {},
   "source": [
    "#### Finding table with last 20 news "
   ]
  },
  {
   "cell_type": "code",
   "execution_count": 9,
   "metadata": {},
   "outputs": [],
   "source": [
    "def webdriver():\n",
    "    url = 'https://www.e-disclosure.ru/poisk-po-soobshheniyam'\n",
    "\n",
    "    driver = webdriver.Firefox()\n",
    "    driver.implicitly_wait(30)\n",
    "    driver.get(url)\n",
    "\n",
    "    python_button = driver.find_element_by_id('butt') #FHSU\n",
    "    python_button.click() #click fhsu link\n",
    "    #  Выбрать пункт все и нажать\n",
    "    python_button2 = driver.find_element_by_xpath('//*[@id=\"pageSize\"]/option[2]')\n",
    "    python_button2.click()\n",
    "\n",
    "    time.sleep(4)\n",
    "    soup = bs(driver.page_source, 'lxml')\n",
    "    res = soup.find_all('tbody')\n",
    "\n",
    "    table = res[-9]\n",
    "\n",
    "    driver.quit()\n"
   ]
  },
  {
   "cell_type": "markdown",
   "metadata": {},
   "source": [
    "### Retrieving code"
   ]
  },
  {
   "cell_type": "code",
   "execution_count": 13,
   "metadata": {},
   "outputs": [],
   "source": [
    "def firm_code_from_link(link):\n",
    "    equal = link.rfind('=')\n",
    "    code = link[equal+1:]\n",
    "    return code"
   ]
  },
  {
   "cell_type": "markdown",
   "metadata": {},
   "source": [
    "### Sending news to all the firms subscribers"
   ]
  },
  {
   "cell_type": "code",
   "execution_count": 14,
   "metadata": {},
   "outputs": [],
   "source": [
    "def subscribers(link,info):\n",
    "    global diction\n",
    "    \n",
    "    code = firm_code_from_link(link)\n",
    "    \n",
    "    for i in diction[code]:\n",
    "        bot.send_message(i,info)\n",
    "        "
   ]
  },
  {
   "cell_type": "markdown",
   "metadata": {},
   "source": [
    "#### Choosing only new events with the help of date-time and returning them"
   ]
  },
  {
   "cell_type": "code",
   "execution_count": 15,
   "metadata": {
    "scrolled": true
   },
   "outputs": [],
   "source": [
    "td_last = 160520201800\n",
    "def send_news():\n",
    "\n",
    "    global td_last\n",
    "    \n",
    "    #  Here i need to define all the variables I will use in this module\n",
    "    def number_date(text):\n",
    "        '''Function to convert date into an int for comparison and searching relevant news'''\n",
    "        pre_res = text.split()\n",
    "        one = pre_res[0].replace('.','') \n",
    "        two = pre_res[1].replace(':','')\n",
    "        res = int(one+two)\n",
    "        return res\n",
    "\n",
    "\n",
    "\n",
    "    iterat = table.contents  # all tr in the table\n",
    "\n",
    "\n",
    "    for child in range(0,len(iterat),2):\n",
    "    # for some reason there are empty cells in [0],[2],[4] and etc. rows, so I need to go through odd ones\n",
    "        date = iterat[child].contents[1].text # first td with the date and time\n",
    "        if number_date(date) > td_last:\n",
    "    #         iterat[child].contents[3] is the second td containing company name and the event name. However, there are two <a> tags, \n",
    "    #         one with company name, the other with the event. Therefore another method, contents[0].text - company and contents[3].text - event, is used.\n",
    "            info = str(iterat[child].contents[3].contents[0].text) + '\\n' + str(iterat[child].contents[3].contents[3].text) + ' ' + str(iterat[child].contents[3].contents[3].get('href'))\n",
    "            subscribers(iterat[child].contents[3].contents[0].get('href'),info)\n",
    "    # td_last is the last time we checked news - it is equiualent to the top row news data in the current session.\n",
    "\n",
    "    \n",
    "    td_last = number_date(iterat[0].contents[1].text) \n",
    "\n",
    "\n"
   ]
  },
  {
   "cell_type": "markdown",
   "metadata": {},
   "source": [
    "### The Bot"
   ]
  },
  {
   "cell_type": "code",
   "execution_count": 53,
   "metadata": {},
   "outputs": [],
   "source": [
    "import telebot\n",
    "\n",
    "token = '1145245715:AAGmd4yheC8AlBpZ5ssHqQm9-1hpt_mkAT0'\n",
    "\n",
    "bot = telebot.TeleBot(token)\n",
    "\n",
    "keyboard1 = telebot.types.ReplyKeyboardMarkup()\n",
    "keyboard1.row('Последние новости', 'Выбрать компании')\n",
    "\n",
    "keyboard2 = telebot.types.InlineKeyboardMarkup(); #наша клавиатура\n",
    "key_one = telebot.types.InlineKeyboardButton(text='Новости', callback_data='news'); #кнопка «Да»\n",
    "keyboard2.add(key_one); #добавляем кнопку в клавиатуру\n",
    "key_two = telebot.types.InlineKeyboardButton(text='Выбрать компании', callback_data='companies');\n",
    "keyboard2.add(key_two);\n",
    "\n",
    "comp_list = set()\n",
    "\n",
    "@bot.message_handler(commands=['start'])\n",
    "def start_message(message):\n",
    "    bot.send_message(message.chat.id, 'Привет, я бот раскрытия. В текущей версии я буду отправлять тебе новости о последних раскрытиях в реальном времени.')\n",
    "    bot.send_message(message.chat.id, 'Какую опцию выберешь?', reply_markup = keyboard2)\n",
    "    chat_id = message.chat.id\n",
    "#     I need to add clients chat_id to SQLite database later\n",
    "    \n",
    "@bot.message_handler(content_types = ['text'])\n",
    "def init_choose_companies(message):\n",
    "    conn = sqlite3.connect('Company_codes_to_clients.sqlite')\n",
    "    cursor = conn.cursor()\n",
    "    cursor.execute('select Company_name from Companies')\n",
    "    \n",
    "    comp = cursor.fetchall()\n",
    "    \n",
    "    global companies\n",
    "    \n",
    "    companies = list()\n",
    "    \n",
    "    for i in comp:\n",
    "        companies.append(i[0]) \n",
    "    \n",
    "    \n",
    "\n",
    "    msg = bot.send_message(message.chat.id, 'Напиши название компании')\n",
    "    bot.register_next_step_handler(msg,choose_companies)\n",
    "    \n",
    "    \n",
    "def  choose_companies(message):\n",
    "    \n",
    "    global comp_list\n",
    "    \n",
    "    company = message.text\n",
    "    \n",
    "    if company =='/end':\n",
    "        \n",
    "        for i in comp_list:\n",
    "            bot.send_message(message.chat.id, str(i))\n",
    "#       add_subscribers(comp_list, message.chat.id)\n",
    "        \n",
    "        \n",
    "        bot.send_message(message.chat.id,'Thanks')\n",
    "#         here I nullify the variable comp_list for the next user - need to check whether this works\n",
    "        comp_list = set()\n",
    "        \n",
    "    else:\n",
    "        comp_results = list()\n",
    "        for i in companies:\n",
    "            if company.lower() in i:\n",
    "                comp_results.append(i)\n",
    "        \n",
    "        if len(comp_results) == 1:\n",
    "            bot.send_message(message.chat.id, 'Добавил')\n",
    "            comp_list.add(comp_results[0])\n",
    "            msg = bot.send_message(message.chat.id, 'Напиши название следующей компании или \"/end\" если хочешь закончить.')\n",
    "            bot.register_next_step_handler(msg, choose_companies)\n",
    "        \n",
    "        elif len(comp_results) > 1:\n",
    "            msg = bot.send_message(message.chat.id, 'Я нашел несколько результатов. Напиши название того, который нужен')\n",
    "            \n",
    "            for a in comp_results:\n",
    "                bot.send_message(message.chat.id, str(a))\n",
    "            \n",
    "            bot.register_next_step_handler(msg, choose_companies)\n",
    "        \n",
    "        else:\n",
    "            msg = bot.send_message(message.chat.id, 'Не смог найти такую компанию.' +'\\n' + 'Напиши название следующей компании или \"/end\" если хочешь закончить.')\n",
    "            bot.register_next_step_handler(msg, choose_companies)    \n",
    "    \n",
    "#         if company not in companies:\n",
    "#             bot.send_message(message.chat.id, 'Не смог найти такую компанию')\n",
    "#             msg = bot.send_message(message.chat.id, 'Напиши название следующей компании или \"/end\" если хочешь закончить.')\n",
    "#             bot.register_next_step_handler(msg,choose_companies)\n",
    "\n",
    "    \n",
    "    \n",
    "    \n",
    "        \n",
    "    \n",
    "\n",
    "    \n",
    "    \n",
    "# for i in dictio.keys():\n",
    "#     if name.lower() in i: \n",
    "#         print(i)    \n",
    "        \n",
    "\n",
    "@bot.callback_query_handler(func=lambda call: True)\n",
    "def callback_worker(call):\n",
    "    chat = call.message\n",
    "    if call.data == \"news\": #call.data это callback_data, которую мы указали при объявлении кнопки\n",
    "        news_check(chat)\n",
    "    elif call.data == \"companies\":\n",
    "        init_choose_companies(chat)\n",
    "        \n",
    "        \n",
    "        \n",
    "\n",
    "bot.polling()"
   ]
  },
  {
   "cell_type": "code",
   "execution_count": 47,
   "metadata": {},
   "outputs": [
    {
     "name": "stdout",
     "output_type": "stream",
     "text": [
      "{'18278': ['Ale', 'Ma', 'Joh'], '2464': ['a', 'b', 'c'], 779224126: ''}\n"
     ]
    }
   ],
   "source": [
    "print(diction)"
   ]
  },
  {
   "cell_type": "code",
   "execution_count": 18,
   "metadata": {},
   "outputs": [],
   "source": []
  },
  {
   "cell_type": "code",
   "execution_count": null,
   "metadata": {},
   "outputs": [],
   "source": []
  },
  {
   "cell_type": "markdown",
   "metadata": {},
   "source": [
    "# Finished Modules"
   ]
  },
  {
   "cell_type": "markdown",
   "metadata": {},
   "source": [
    "## Companies_List"
   ]
  },
  {
   "cell_type": "code",
   "execution_count": null,
   "metadata": {},
   "outputs": [],
   "source": [
    "url = 'https://www.e-disclosure.ru/poisk-po-soobshheniyam'\n",
    "\n",
    "driver = webdriver.Firefox()\n",
    "driver.implicitly_wait(30)\n",
    "driver.get(url)\n",
    "\n",
    "python_button = driver.find_element_by_id('butt') #FHSU\n",
    "python_button.click() #click fhsu link\n",
    "\n",
    "python_button2 = driver.find_element_by_id('pageSize')\n",
    "python_button2.click()\n",
    "\n",
    "soup = bs(driver.page_source, 'lxml')\n",
    "res = soup.find_all('a')\n",
    "# select all the relevant passages from the table. Empirically found them.\n",
    "companies = {}\n",
    "for a  in range(46,2445,2):\n",
    "#     remove comma only when need to create a dict\n",
    "#     companies[res[a].text] = res[a].get('href')[-5:]\n",
    "    print(res[a].text, res[a].get('href'))\n",
    "\n",
    "driver.quit()\n",
    "\n",
    "for i in companies.keys():\n",
    "    if companies[i].startswith('='):\n",
    "        companies[i] = companies[i].replace('=','')\n",
    "\n",
    "    if companies[i].startswith('d='):\n",
    "        companies[i] = companies[i].replace('d=','')\n",
    "companies"
   ]
  },
  {
   "cell_type": "code",
   "execution_count": null,
   "metadata": {},
   "outputs": [],
   "source": [
    "company = list(companies.keys())\n",
    "comp_id = list(companies.values())\n",
    "\n",
    "data = {'company':company, 'comp_id':comp_id}\n",
    "df = pd.DataFrame.from_dict(data)\n",
    "df"
   ]
  },
  {
   "cell_type": "code",
   "execution_count": null,
   "metadata": {},
   "outputs": [],
   "source": [
    "df.to_csv('interfax_companies.csv', encoding = 'windows - 1251')"
   ]
  },
  {
   "cell_type": "code",
   "execution_count": null,
   "metadata": {},
   "outputs": [],
   "source": []
  },
  {
   "cell_type": "markdown",
   "metadata": {},
   "source": []
  },
  {
   "cell_type": "code",
   "execution_count": 7,
   "metadata": {},
   "outputs": [
    {
     "data": {
      "text/plain": [
       "[]"
      ]
     },
     "execution_count": 7,
     "metadata": {},
     "output_type": "execute_result"
    }
   ],
   "source": []
  }
 ],
 "metadata": {
  "kernelspec": {
   "display_name": "Python 3",
   "language": "python",
   "name": "python3"
  },
  "language_info": {
   "codemirror_mode": {
    "name": "ipython",
    "version": 3
   },
   "file_extension": ".py",
   "mimetype": "text/x-python",
   "name": "python",
   "nbconvert_exporter": "python",
   "pygments_lexer": "ipython3",
   "version": "3.7.4"
  }
 },
 "nbformat": 4,
 "nbformat_minor": 2
}
