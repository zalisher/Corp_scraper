{
 "cells": [
  {
   "cell_type": "code",
   "execution_count": 30,
   "metadata": {},
   "outputs": [],
   "source": [
    "from bs4 import BeautifulSoup as bs\n",
    "import time\n",
    "import sqlite3 \n",
    "import re\n",
    "from datetime import datetime\n",
    "from selenium import webdriver\n",
    "import json\n",
    "from urllib.request import urlopen\n",
    "from selenium.webdriver.common.keys import Keys\n",
    "import pandas as pd\n",
    "import os"
   ]
  },
  {
   "cell_type": "markdown",
   "metadata": {},
   "source": [
    "# Start all functions"
   ]
  },
  {
   "cell_type": "code",
   "execution_count": 31,
   "metadata": {},
   "outputs": [],
   "source": [
    "# client_chat = 779224126\n",
    "# client_companies = '[2314,4526,124]'\n",
    "\n",
    "def add_client(client_chat,client_companies):\n",
    "    \"\"\" Adding new client to the database\"\"\"\n",
    "\n",
    "    conn = sqlite3.connect('Interfax_bot.sqlite')\n",
    "\n",
    "    cursor = conn.cursor()\n",
    "\n",
    "    # Данные нужно передавать кортежем. Даже одну запись\n",
    "    \n",
    "    \n",
    "    cursor.execute(\"insert into Clients values (Null, ?, ?);\", (client_chat, client_companies))\n",
    "\n",
    "    conn.commit()\n",
    "\n",
    "# Использует функцию выше внутри себя. ПРоверяет наличие клиента в базе и добавляет его/обновляет его подписки\n",
    "def add_update(name,companies):    \n",
    "    \n",
    "    conn = sqlite3.connect('Interfax_bot.sqlite')\n",
    "\n",
    "    cursor = conn.cursor()\n",
    "\n",
    "    cursor.execute('select ID from Clients where Client_name = ?;',(name,))\n",
    "\n",
    "    res = cursor.fetchone()\n",
    "\n",
    "    if res == None:\n",
    "        add_client(name,companies)\n",
    "    else:\n",
    "        cursor.execute('''update Clients \n",
    "                          set Client_name = ?, companies = ? \n",
    "                          where ID = ?;''',(name, companies, res[0]))\n",
    "        conn.commit() \n",
    "    # res[0] is the ID value itself, since fetchone returns a tuple\n",
    "\n",
    "\n",
    "# эти две функции используются,чтобы хранить данные по клиентам в таблице в виде строки\n",
    "def retrieve_code(string):\n",
    "    dic = list(map(str, string.replace('{','').replace('}','').split(',')))\n",
    "    dic = set(dic)\n",
    "    return dic\n",
    "\n",
    "def create_string(array):\n",
    "    \n",
    "    string = '{'\n",
    "    for i in array:\n",
    "        if i == '':\n",
    "            continue\n",
    "        string = string + str(i) + ','\n",
    "    string = string[:-1] + '}'\n",
    "    return string\n",
    "\n",
    "\n",
    "def add_subscribers(companies,client):\n",
    "    \"\"\" Updates the set of subscribers for every company \"\"\"\n",
    "    \n",
    "\n",
    "    conn = sqlite3.connect('Company_codes_to_clients.sqlite')\n",
    "    cursor = conn.cursor()\n",
    "    \n",
    "#   Since this module will work right after the client chooses companies, the given array of companies codes will be a set\n",
    "    for i in companies:\n",
    "\n",
    "    # retrieve the existing string of clients for the company\n",
    "    # convert it to set\n",
    "    # add the client to this set\n",
    "    # convert back to string\n",
    "    # update the table\n",
    "\n",
    "        cursor.execute('select Chat_codes from Companies where Company_name = ?;',(i,))\n",
    "        chat_codes = retrieve_code((cursor.fetchone()[0]))\n",
    "        chat_codes.add(client)\n",
    "        update = create_string(chat_codes)\n",
    "        cursor.execute(\"\"\"\n",
    "                        update Companies \n",
    "                        set Chat_codes = ?\n",
    "                        where Company_name = ?\n",
    "\n",
    "                        \"\"\",(update,i))\n",
    "        conn.commit()\n",
    "\n",
    "        \n",
    "def subscribers(link,info):\n",
    "    \"\"\" sends news to all subscribers of firms from the latest update\"\"\"\n",
    "    conn = sqlite3.connect('Company_codes_to_clients.sqlite')\n",
    "    \n",
    "    cursor = conn.cursor()\n",
    "    code = firm_code_from_link(link)\n",
    "    \n",
    "    cursor.execute('select Chat_codes from Companies where Code = ?', (code,))\n",
    "    chat_codes = cursor.fetchall()\n",
    "    \n",
    "    \n",
    "    if len(chat_codes) == 0:\n",
    "        print(0)\n",
    "    else:\n",
    "        for i in retrieve_code(chat_codes[0][0]):\n",
    "            bot.send_message(i,info)\n",
    "        \n",
    "        \n",
    "        \n",
    "def firm_code_from_link(link):\n",
    "    \"\"\" retrieves company code from link\"\"\"\n",
    "    equal = link.rfind('=')\n",
    "    code = link[equal+1:]\n",
    "    return code"
   ]
  },
  {
   "cell_type": "markdown",
   "metadata": {},
   "source": [
    "### Adding the company_names and codes to DB - Done"
   ]
  },
  {
   "cell_type": "code",
   "execution_count": null,
   "metadata": {},
   "outputs": [],
   "source": [
    "# I need to read it from Sqlite and not keep in memory, since the users will not add new companies constantly\n",
    "\n",
    "companies_names = pd.read_csv('interfax_companies.csv', encoding = 'windows-1251', index_col = 0)\n",
    "\n",
    "companies = companies_names['company'].to_list()\n",
    "ids = companies_names['comp_id'].to_list()\n",
    "\n",
    "dictio = {}\n",
    "companies_low = [i.lower() for i in companies]\n",
    "\n",
    "for i in range(len(companies)):\n",
    "    dictio[companies_low[i]] = ids[i]\n",
    "print(dictio)\n",
    "\n",
    "\n",
    "# UNCOMMENT THIS WHEN NEED TO UPDATE THE DATABASE - BUT BE CAREFUL. IT WILL REMOVE ALL THE EXISTING CLIENTS FOR EACH COMPANY\n",
    "# SO CREATE THE DICTION WITH ONLY NEW COMPANIES AND DO THAT\n",
    "\n",
    "# conn = sqlite3.connect('Company_codes_to_clients.sqlite')\n",
    "\n",
    "# cursor = conn.cursor()\n",
    "\n",
    "\n",
    "# for i in range(len(companies)):\n",
    "#     cursor.execute('insert into Companies values (Null, ?,?,?)',(companies_low[i],ids[i],'{}'))\n",
    "# conn.commit()"
   ]
  },
  {
   "cell_type": "markdown",
   "metadata": {},
   "source": [
    "# Check updates for specific Firms - frozen"
   ]
  },
  {
   "cell_type": "code",
   "execution_count": 6,
   "metadata": {
    "collapsed": true
   },
   "outputs": [
    {
     "ename": "NameError",
     "evalue": "name 'result_pre' is not defined",
     "output_type": "error",
     "traceback": [
      "\u001b[1;31m---------------------------------------------------------------------------\u001b[0m",
      "\u001b[1;31mNameError\u001b[0m                                 Traceback (most recent call last)",
      "\u001b[1;32m<ipython-input-6-66045dfae389>\u001b[0m in \u001b[0;36m<module>\u001b[1;34m\u001b[0m\n\u001b[0;32m     26\u001b[0m             \u001b[0mcompany_pre\u001b[0m\u001b[1;33m[\u001b[0m\u001b[0mcompany\u001b[0m\u001b[1;33m]\u001b[0m \u001b[1;33m=\u001b[0m \u001b[0mlen\u001b[0m\u001b[1;33m(\u001b[0m\u001b[0mresult\u001b[0m\u001b[1;33m)\u001b[0m\u001b[1;33m\u001b[0m\u001b[1;33m\u001b[0m\u001b[0m\n\u001b[0;32m     27\u001b[0m \u001b[1;33m\u001b[0m\u001b[0m\n\u001b[1;32m---> 28\u001b[1;33m \u001b[0msearch_by_companies\u001b[0m\u001b[1;33m(\u001b[0m\u001b[1;34m'ПАО Сбербанк'\u001b[0m\u001b[1;33m)\u001b[0m\u001b[1;33m\u001b[0m\u001b[1;33m\u001b[0m\u001b[0m\n\u001b[0m",
      "\u001b[1;32m<ipython-input-6-66045dfae389>\u001b[0m in \u001b[0;36msearch_by_companies\u001b[1;34m(*companies)\u001b[0m\n\u001b[0;32m     20\u001b[0m         \u001b[1;32mif\u001b[0m \u001b[0mlen\u001b[0m\u001b[1;33m(\u001b[0m\u001b[0mresult\u001b[0m\u001b[1;33m)\u001b[0m \u001b[1;33m>\u001b[0m \u001b[0mcompany_pre\u001b[0m\u001b[1;33m[\u001b[0m\u001b[0mcompany\u001b[0m\u001b[1;33m]\u001b[0m\u001b[1;33m:\u001b[0m\u001b[1;33m\u001b[0m\u001b[1;33m\u001b[0m\u001b[0m\n\u001b[0;32m     21\u001b[0m             \u001b[0mi\u001b[0m \u001b[1;33m=\u001b[0m \u001b[1;36m1\u001b[0m\u001b[1;33m\u001b[0m\u001b[1;33m\u001b[0m\u001b[0m\n\u001b[1;32m---> 22\u001b[1;33m             \u001b[1;32mfor\u001b[0m \u001b[0mtd\u001b[0m \u001b[1;32min\u001b[0m \u001b[0mrange\u001b[0m \u001b[1;33m(\u001b[0m\u001b[1;33m(\u001b[0m\u001b[0mlen\u001b[0m\u001b[1;33m(\u001b[0m\u001b[0mresult\u001b[0m\u001b[1;33m)\u001b[0m \u001b[1;33m-\u001b[0m \u001b[0mresult_pre\u001b[0m\u001b[1;33m)\u001b[0m\u001b[1;33m//\u001b[0m\u001b[1;36m3\u001b[0m\u001b[1;33m)\u001b[0m\u001b[1;33m:\u001b[0m\u001b[1;33m\u001b[0m\u001b[1;33m\u001b[0m\u001b[0m\n\u001b[0m\u001b[0;32m     23\u001b[0m \u001b[1;33m\u001b[0m\u001b[0m\n\u001b[0;32m     24\u001b[0m                     \u001b[0mprint\u001b[0m\u001b[1;33m(\u001b[0m\u001b[0mname\u001b[0m\u001b[1;33m,\u001b[0m \u001b[1;34m'Дата публикации - '\u001b[0m \u001b[1;33m+\u001b[0m \u001b[0mstr\u001b[0m\u001b[1;33m(\u001b[0m\u001b[0mresult\u001b[0m\u001b[1;33m[\u001b[0m\u001b[0mi\u001b[0m\u001b[1;33m]\u001b[0m\u001b[1;33m.\u001b[0m\u001b[0mtext\u001b[0m\u001b[1;33m)\u001b[0m\u001b[1;33m,\u001b[0m\u001b[0mresult\u001b[0m\u001b[1;33m[\u001b[0m\u001b[0mi\u001b[0m\u001b[1;33m+\u001b[0m\u001b[1;36m1\u001b[0m\u001b[1;33m]\u001b[0m\u001b[1;33m.\u001b[0m\u001b[0mtext\u001b[0m\u001b[1;33m,\u001b[0m\u001b[0mresult\u001b[0m\u001b[1;33m[\u001b[0m\u001b[0mi\u001b[0m\u001b[1;33m+\u001b[0m\u001b[1;36m1\u001b[0m\u001b[1;33m]\u001b[0m\u001b[1;33m.\u001b[0m\u001b[0ma\u001b[0m\u001b[1;33m.\u001b[0m\u001b[0mget\u001b[0m\u001b[1;33m(\u001b[0m\u001b[1;34m'href'\u001b[0m\u001b[1;33m)\u001b[0m\u001b[1;33m,\u001b[0m\u001b[0msep\u001b[0m \u001b[1;33m=\u001b[0m \u001b[1;34m'\\n'\u001b[0m\u001b[1;33m)\u001b[0m\u001b[1;33m\u001b[0m\u001b[1;33m\u001b[0m\u001b[0m\n",
      "\u001b[1;31mNameError\u001b[0m: name 'result_pre' is not defined"
     ]
    }
   ],
   "source": [
    "# dictio = {}\n",
    "# dictio['ПАО Сбербанк'] = 3043\n",
    "# name = dictio.keys()\n",
    "\n",
    "\n",
    "\n",
    "\n",
    "\n",
    "# def search_by_companies(*companies):\n",
    "#     for company in companies:\n",
    "# #         create the dict to control the number of new events\n",
    "#         company_pre = {company:0}\n",
    "#         request = urlopen('https://www.e-disclosure.ru/Event/Page?companyId=' + str(dictio[company]) +'&year=2020')\n",
    "#         soup = bs(request, 'lxml')\n",
    "\n",
    "        \n",
    "#         # It is supposed to infinitely parse ---> don't need to check more than 20 first values\n",
    "#         result = soup.find_all('td')[:15]\n",
    "\n",
    "#         if len(result) > company_pre[company]:\n",
    "#             i = 1\n",
    "#             for td in range ((len(result) - result_pre)//3):\n",
    "\n",
    "#                     print(name, 'Дата публикации - ' + str(result[i].text),result[i+1].text,result[i+1].a.get('href'),sep = '\\n')\n",
    "#                     i+=3\n",
    "#             company_pre[company] = len(result)\n",
    "\n",
    "# search_by_companies('ПАО Сбербанк')"
   ]
  },
  {
   "cell_type": "markdown",
   "metadata": {},
   "source": [
    "# Telegram bot"
   ]
  },
  {
   "cell_type": "markdown",
   "metadata": {},
   "source": [
    "### News check - frozen"
   ]
  },
  {
   "cell_type": "code",
   "execution_count": null,
   "metadata": {},
   "outputs": [],
   "source": [
    "# def news_check(message):\n",
    "#     url = 'https://www.e-disclosure.ru/'\n",
    "# # set up driver for working with js - BS4 will not find the table \n",
    "#     driver = webdriver.Firefox()\n",
    "#     driver.implicitly_wait(30)\n",
    "#     driver.get(url)\n",
    "# # press button 'search'\n",
    "#     python_button = driver.find_element_by_id('butt') #FHSU\n",
    "#     python_button.click() #click fhsu link\n",
    "    \n",
    "#     soup = bs(driver.page_source, 'lxml')\n",
    "#     res = soup.find_all('a')\n",
    "\n",
    "#     for a in range(42,72,2):\n",
    "#         bot.send_message(message.chat.id, res[a].text + '\\n' + str(res[a+1].text) + ' ' + str(res[a+1].get('href')))\n"
   ]
  },
  {
   "cell_type": "markdown",
   "metadata": {},
   "source": [
    "### Subscription module"
   ]
  },
  {
   "cell_type": "markdown",
   "metadata": {},
   "source": [
    "#### Finding table with last 20 news "
   ]
  },
  {
   "cell_type": "code",
   "execution_count": 32,
   "metadata": {},
   "outputs": [],
   "source": [
    "def find_news():\n",
    "    url = 'https://www.e-disclosure.ru/poisk-po-soobshheniyam'\n",
    "\n",
    "    driver = webdriver.Firefox()\n",
    "    driver.implicitly_wait(30)\n",
    "    driver.get(url)\n",
    "\n",
    "    python_button = driver.find_element_by_id('butt') #FHSU\n",
    "    python_button.click() #click fhsu link\n",
    "    #  Выбрать пункт 20 и нажать\n",
    "    python_button2 = driver.find_element_by_xpath('//*[@id=\"pageSize\"]/option[2]')\n",
    "    python_button2.click()\n",
    "\n",
    "    time.sleep(4)\n",
    "    soup = bs(driver.page_source, 'lxml')\n",
    "    res = soup.find_all('tbody')\n",
    "\n",
    "    global table\n",
    "    table = res[-9]\n",
    "\n",
    "    driver.quit()\n"
   ]
  },
  {
   "cell_type": "markdown",
   "metadata": {},
   "source": [
    "#### Choosing only new events with the help of date-time and returning them"
   ]
  },
  {
   "cell_type": "code",
   "execution_count": 36,
   "metadata": {
    "scrolled": true
   },
   "outputs": [
    {
     "name": "stdout",
     "output_type": "stream",
     "text": [
      "0\n",
      "0\n",
      "0\n",
      "0\n",
      "0\n"
     ]
    },
    {
     "name": "stderr",
     "output_type": "stream",
     "text": [
      "2020-05-29 22:05:09,090 (util.py:68 WorkerThread10) ERROR - TeleBot: \"ApiException occurred, args=('A request to the Telegram API was unsuccessful. The server returned HTTP 400 Bad Request. Response body:\\n[b\\'{\"ok\":false,\"error_code\":400,\"description\":\"Bad Request: chat_id is empty\"}\\']',)\n",
      "Traceback (most recent call last):\n",
      "  File \"C:\\Users\\azhur\\Anaconda3\\lib\\site-packages\\telebot\\util.py\", line 62, in run\n",
      "    task(*args, **kwargs)\n",
      "  File \"<ipython-input-35-9a0892d4d8d7>\", line 111, in callback_worker\n",
      "    send_news()\n",
      "  File \"<ipython-input-36-262a3251ad1e>\", line 31, in send_news\n",
      "    subscribers(link, info)\n",
      "  File \"<ipython-input-31-1b8604b66d69>\", line 99, in subscribers\n",
      "    bot.send_message(i,info)\n",
      "  File \"C:\\Users\\azhur\\Anaconda3\\lib\\site-packages\\telebot\\__init__.py\", line 625, in send_message\n",
      "    reply_markup, parse_mode, disable_notification, timeout))\n",
      "  File \"C:\\Users\\azhur\\Anaconda3\\lib\\site-packages\\telebot\\apihelper.py\", line 159, in send_message\n",
      "    return _make_request(token, method_url, params=payload, method='post')\n",
      "  File \"C:\\Users\\azhur\\Anaconda3\\lib\\site-packages\\telebot\\apihelper.py\", line 65, in _make_request\n",
      "    return _check_result(method_name, result)['result']\n",
      "  File \"C:\\Users\\azhur\\Anaconda3\\lib\\site-packages\\telebot\\apihelper.py\", line 84, in _check_result\n",
      "    raise ApiException(msg, method_name, result)\n",
      "telebot.apihelper.ApiException: A request to the Telegram API was unsuccessful. The server returned HTTP 400 Bad Request. Response body:\n",
      "[b'{\"ok\":false,\"error_code\":400,\"description\":\"Bad Request: chat_id is empty\"}']\n",
      "\"\n"
     ]
    },
    {
     "name": "stdout",
     "output_type": "stream",
     "text": [
      "0\n",
      "0\n",
      "0\n",
      "0\n",
      "0\n",
      "0\n"
     ]
    },
    {
     "name": "stderr",
     "output_type": "stream",
     "text": [
      "2020-05-29 22:05:14,673 (util.py:68 WorkerThread9) ERROR - TeleBot: \"ApiException occurred, args=('A request to the Telegram API was unsuccessful. The server returned HTTP 400 Bad Request. Response body:\\n[b\\'{\"ok\":false,\"error_code\":400,\"description\":\"Bad Request: chat_id is empty\"}\\']',)\n",
      "Traceback (most recent call last):\n",
      "  File \"C:\\Users\\azhur\\Anaconda3\\lib\\site-packages\\telebot\\util.py\", line 62, in run\n",
      "    task(*args, **kwargs)\n",
      "  File \"<ipython-input-35-9a0892d4d8d7>\", line 111, in callback_worker\n",
      "    send_news()\n",
      "  File \"<ipython-input-36-262a3251ad1e>\", line 31, in send_news\n",
      "    subscribers(link, info)\n",
      "  File \"<ipython-input-31-1b8604b66d69>\", line 99, in subscribers\n",
      "    bot.send_message(i,info)\n",
      "  File \"C:\\Users\\azhur\\Anaconda3\\lib\\site-packages\\telebot\\__init__.py\", line 625, in send_message\n",
      "    reply_markup, parse_mode, disable_notification, timeout))\n",
      "  File \"C:\\Users\\azhur\\Anaconda3\\lib\\site-packages\\telebot\\apihelper.py\", line 159, in send_message\n",
      "    return _make_request(token, method_url, params=payload, method='post')\n",
      "  File \"C:\\Users\\azhur\\Anaconda3\\lib\\site-packages\\telebot\\apihelper.py\", line 65, in _make_request\n",
      "    return _check_result(method_name, result)['result']\n",
      "  File \"C:\\Users\\azhur\\Anaconda3\\lib\\site-packages\\telebot\\apihelper.py\", line 84, in _check_result\n",
      "    raise ApiException(msg, method_name, result)\n",
      "telebot.apihelper.ApiException: A request to the Telegram API was unsuccessful. The server returned HTTP 400 Bad Request. Response body:\n",
      "[b'{\"ok\":false,\"error_code\":400,\"description\":\"Bad Request: chat_id is empty\"}']\n",
      "\"\n"
     ]
    },
    {
     "name": "stdout",
     "output_type": "stream",
     "text": [
      "0\n"
     ]
    }
   ],
   "source": [
    "td_last = 290520201900\n",
    "def send_news():\n",
    "\n",
    "    global td_last\n",
    "    \n",
    "    #  Here i need to define all the variables I will use in this module\n",
    "    def number_date(text):\n",
    "        '''Function to convert date into an int for comparison and searching relevant news'''\n",
    "        pre_res = text.split()\n",
    "        one = pre_res[0].replace('.','') \n",
    "        two = pre_res[1].replace(':','')\n",
    "        res = int(one+two)\n",
    "        return res\n",
    "\n",
    "\n",
    "\n",
    "    iterat = table.contents  # all tr in the table\n",
    "\n",
    "    \n",
    "        \n",
    "    for child in range(0,len(iterat),2):\n",
    "    # for some reason there are empty cells in [0],[2],[4] and etc. rows, so I need to go through odd ones\n",
    "        date = iterat[child].contents[1].text # first td with the date and time\n",
    "        if number_date(date) > td_last:\n",
    "    #         iterat[child].contents[3] is the second td containing company name and the event name. However, there are two <a> tags, \n",
    "    #         one with company name, the other with the event. Therefore another method, contents[0].text - company and contents[3].text - event, is used.\n",
    "            info = str(iterat[child].contents[3].contents[0].text) + '\\n' + str(iterat[child].contents[3].contents[3].text) + ' ' + str(iterat[child].contents[3].contents[3].get('href'))\n",
    "            link = iterat[child].contents[3].contents[0].get('href') \n",
    "\n",
    "\n",
    "            subscribers(link, info)\n",
    "\n",
    "        # td_last is the last time we checked news - it is equiualent to the top row news data in the current session.\n",
    "\n",
    "\n",
    "\n",
    "    td_last = number_date(iterat[0].contents[1].text) \n",
    "\n",
    "\n"
   ]
  },
  {
   "cell_type": "markdown",
   "metadata": {},
   "source": [
    "### The Bot"
   ]
  },
  {
   "cell_type": "code",
   "execution_count": 35,
   "metadata": {
    "scrolled": true
   },
   "outputs": [
    {
     "name": "stdout",
     "output_type": "stream",
     "text": [
      "0\n",
      "0\n",
      "0\n",
      "0\n",
      "0\n"
     ]
    },
    {
     "name": "stderr",
     "output_type": "stream",
     "text": [
      "2020-05-29 22:04:58,039 (util.py:68 WorkerThread9) ERROR - TeleBot: \"ApiException occurred, args=('A request to the Telegram API was unsuccessful. The server returned HTTP 400 Bad Request. Response body:\\n[b\\'{\"ok\":false,\"error_code\":400,\"description\":\"Bad Request: chat_id is empty\"}\\']',)\n",
      "Traceback (most recent call last):\n",
      "  File \"C:\\Users\\azhur\\Anaconda3\\lib\\site-packages\\telebot\\util.py\", line 62, in run\n",
      "    task(*args, **kwargs)\n",
      "  File \"<ipython-input-35-9a0892d4d8d7>\", line 111, in callback_worker\n",
      "    send_news()\n",
      "  File \"<ipython-input-33-262a3251ad1e>\", line 31, in send_news\n",
      "    subscribers(link, info)\n",
      "  File \"<ipython-input-31-1b8604b66d69>\", line 99, in subscribers\n",
      "    bot.send_message(i,info)\n",
      "  File \"C:\\Users\\azhur\\Anaconda3\\lib\\site-packages\\telebot\\__init__.py\", line 625, in send_message\n",
      "    reply_markup, parse_mode, disable_notification, timeout))\n",
      "  File \"C:\\Users\\azhur\\Anaconda3\\lib\\site-packages\\telebot\\apihelper.py\", line 159, in send_message\n",
      "    return _make_request(token, method_url, params=payload, method='post')\n",
      "  File \"C:\\Users\\azhur\\Anaconda3\\lib\\site-packages\\telebot\\apihelper.py\", line 65, in _make_request\n",
      "    return _check_result(method_name, result)['result']\n",
      "  File \"C:\\Users\\azhur\\Anaconda3\\lib\\site-packages\\telebot\\apihelper.py\", line 84, in _check_result\n",
      "    raise ApiException(msg, method_name, result)\n",
      "telebot.apihelper.ApiException: A request to the Telegram API was unsuccessful. The server returned HTTP 400 Bad Request. Response body:\n",
      "[b'{\"ok\":false,\"error_code\":400,\"description\":\"Bad Request: chat_id is empty\"}']\n",
      "\"\n",
      "2020-05-29 22:04:58,040 (__init__.py:443 MainThread) ERROR - TeleBot: \"A request to the Telegram API was unsuccessful. The server returned HTTP 400 Bad Request. Response body:\n",
      "[b'{\"ok\":false,\"error_code\":400,\"description\":\"Bad Request: chat_id is empty\"}']\"\n"
     ]
    },
    {
     "name": "stdout",
     "output_type": "stream",
     "text": [
      "0\n"
     ]
    }
   ],
   "source": [
    "import telebot\n",
    "\n",
    "token = '1145245715:AAGmd4yheC8AlBpZ5ssHqQm9-1hpt_mkAT0'\n",
    "\n",
    "bot = telebot.TeleBot(token)\n",
    "\n",
    "keyboard1 = telebot.types.ReplyKeyboardMarkup()\n",
    "keyboard1.row('Последние новости', 'Выбрать компании')\n",
    "\n",
    "keyboard2 = telebot.types.InlineKeyboardMarkup(); #наша клавиатура\n",
    "key_one = telebot.types.InlineKeyboardButton(text='Новости', callback_data='news'); #кнопка «Да»\n",
    "keyboard2.add(key_one); #добавляем кнопку в клавиатуру\n",
    "key_two = telebot.types.InlineKeyboardButton(text='Выбрать компании', callback_data='companies');\n",
    "keyboard2.add(key_two);\n",
    "\n",
    "comp_list = set()\n",
    "\n",
    "@bot.message_handler(commands=['start'])\n",
    "def start_message(message):\n",
    "    bot.send_message(message.chat.id, 'Привет, я бот раскрытия. В текущей версии я буду отправлять тебе новости о последних раскрытиях в реальном времени.')\n",
    "    bot.send_message(message.chat.id, 'Какую опцию выберешь?', reply_markup = keyboard2)\n",
    "    chat_id = message.chat.id\n",
    "#     I need to add clients chat_id to SQLite database later\n",
    "    \n",
    "@bot.message_handler(content_types = ['text'])\n",
    "def init_choose_companies(message):\n",
    "    conn = sqlite3.connect('Company_codes_to_clients.sqlite')\n",
    "    cursor = conn.cursor()\n",
    "    cursor.execute('select Company_name from Companies')\n",
    "    \n",
    "    comp = cursor.fetchall()\n",
    "    \n",
    "    global companies\n",
    "    \n",
    "    companies = list()\n",
    "    \n",
    "    for i in comp:\n",
    "        companies.append(i[0]) \n",
    "    \n",
    "    \n",
    "\n",
    "    msg = bot.send_message(message.chat.id, 'Напиши название компании')\n",
    "    bot.register_next_step_handler(msg,choose_companies)\n",
    "    \n",
    "    \n",
    "def  choose_companies(message):\n",
    "    \n",
    "    global comp_list\n",
    "    \n",
    "    company = message.text\n",
    "    \n",
    "    if company =='/end':\n",
    "        \n",
    "#         for i in comp_list:\n",
    "#             bot.send_message(message.chat.id, str(i))\n",
    "# add all the chosen companies to the DB\n",
    "        add_subscribers(comp_list, message.chat.id)\n",
    "        \n",
    "        \n",
    "        bot.send_message(message.chat.id,'Thanks')\n",
    "#         here I nullify the variable comp_list for the next user - need to check whether this works\n",
    "        comp_list = set()\n",
    "        \n",
    "    else:\n",
    "        comp_results = list()\n",
    "        for i in companies:\n",
    "            if company.lower() in i:\n",
    "                comp_results.append(i)\n",
    "        \n",
    "        if len(comp_results) == 1:\n",
    "            bot.send_message(message.chat.id, 'Добавил')\n",
    "            comp_list.add(comp_results[0])\n",
    "            msg = bot.send_message(message.chat.id, 'Напиши название следующей компании или \"/end\" если хочешь закончить.')\n",
    "            bot.register_next_step_handler(msg, choose_companies)\n",
    "        \n",
    "        elif len(comp_results) > 1:\n",
    "            msg = bot.send_message(message.chat.id, 'Я нашел несколько результатов. Напиши название того, который нужен')\n",
    "            \n",
    "            for a in comp_results:\n",
    "                bot.send_message(message.chat.id, str(a))\n",
    "            \n",
    "            bot.register_next_step_handler(msg, choose_companies)\n",
    "        \n",
    "        else:\n",
    "            msg = bot.send_message(message.chat.id, 'Не смог найти такую компанию.' +'\\n' + 'Напиши название следующей компании или \"/end\" если хочешь закончить.')\n",
    "            bot.register_next_step_handler(msg, choose_companies)    \n",
    "    \n",
    "#         if company not in companies:\n",
    "#             bot.send_message(message.chat.id, 'Не смог найти такую компанию')\n",
    "#             msg = bot.send_message(message.chat.id, 'Напиши название следующей компании или \"/end\" если хочешь закончить.')\n",
    "#             bot.register_next_step_handler(msg,choose_companies)\n",
    "\n",
    "    \n",
    "    \n",
    "    \n",
    "        \n",
    "    \n",
    "\n",
    "    \n",
    "    \n",
    "# for i in dictio.keys():\n",
    "#     if name.lower() in i: \n",
    "#         print(i)    \n",
    "        \n",
    "\n",
    "@bot.callback_query_handler(func=lambda call: True)\n",
    "def callback_worker(call):\n",
    "    chat = call.message\n",
    "    if call.data == \"news\": #call.data это callback_data, которую мы указали при объявлении кнопки\n",
    "        find_news()\n",
    "        send_news()\n",
    "    elif call.data == \"companies\":\n",
    "        init_choose_companies(chat)\n",
    "        \n",
    "        \n",
    "        \n",
    "\n",
    "bot.polling()"
   ]
  },
  {
   "cell_type": "markdown",
   "metadata": {},
   "source": [
    "# Finished Modules"
   ]
  },
  {
   "cell_type": "markdown",
   "metadata": {},
   "source": [
    "## Companies_List - use when you need to update the list"
   ]
  },
  {
   "cell_type": "code",
   "execution_count": null,
   "metadata": {},
   "outputs": [],
   "source": [
    "url = 'https://www.e-disclosure.ru/poisk-po-soobshheniyam'\n",
    "\n",
    "driver = webdriver.Firefox()\n",
    "driver.implicitly_wait(30)\n",
    "driver.get(url)\n",
    "\n",
    "python_button = driver.find_element_by_id('butt') #FHSU\n",
    "python_button.click() #click fhsu link\n",
    "\n",
    "python_button2 = driver.find_element_by_id('pageSize')\n",
    "python_button2.click()\n",
    "\n",
    "soup = bs(driver.page_source, 'lxml')\n",
    "res = soup.find_all('a')\n",
    "# select all the relevant passages from the table. Empirically found them.\n",
    "companies = {}\n",
    "for a  in range(46,2445,2):\n",
    "#     remove comma only when need to create a dict\n",
    "#     companies[res[a].text] = res[a].get('href')[-5:]\n",
    "    print(res[a].text, res[a].get('href'))\n",
    "\n",
    "driver.quit()\n",
    "\n",
    "for i in companies.keys():\n",
    "    if companies[i].startswith('='):\n",
    "        companies[i] = companies[i].replace('=','')\n",
    "\n",
    "    if companies[i].startswith('d='):\n",
    "        companies[i] = companies[i].replace('d=','')\n",
    "companies"
   ]
  },
  {
   "cell_type": "code",
   "execution_count": null,
   "metadata": {},
   "outputs": [],
   "source": [
    "company = list(companies.keys())\n",
    "comp_id = list(companies.values())\n",
    "\n",
    "data = {'company':company, 'comp_id':comp_id}\n",
    "df = pd.DataFrame.from_dict(data)\n",
    "df"
   ]
  },
  {
   "cell_type": "code",
   "execution_count": null,
   "metadata": {},
   "outputs": [],
   "source": [
    "# df.to_csv('interfax_companies.csv', encoding = 'windows - 1251')"
   ]
  }
 ],
 "metadata": {
  "kernelspec": {
   "display_name": "Python 3",
   "language": "python",
   "name": "python3"
  },
  "language_info": {
   "codemirror_mode": {
    "name": "ipython",
    "version": 3
   },
   "file_extension": ".py",
   "mimetype": "text/x-python",
   "name": "python",
   "nbconvert_exporter": "python",
   "pygments_lexer": "ipython3",
   "version": "3.7.4"
  }
 },
 "nbformat": 4,
 "nbformat_minor": 2
}
