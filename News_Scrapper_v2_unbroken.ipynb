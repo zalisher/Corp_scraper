{
 "cells": [
  {
   "cell_type": "code",
   "execution_count": 30,
   "metadata": {},
   "outputs": [],
   "source": [
    "from bs4 import BeautifulSoup as bs\n",
    "import time\n",
    "import sqlite3 \n",
    "import re\n",
    "from datetime import datetime\n",
    "from selenium import webdriver\n",
    "import json\n",
    "from urllib.request import urlopen\n",
    "from selenium.webdriver.common.keys import Keys\n",
    "import pandas as pd\n",
    "import os"
   ]
  },
  {
   "cell_type": "markdown",
   "metadata": {},
   "source": [
    "# Check updates for specific Firms"
   ]
  },
  {
   "cell_type": "code",
   "execution_count": 6,
   "metadata": {},
   "outputs": [
    {
     "ename": "NameError",
     "evalue": "name 'result_pre' is not defined",
     "output_type": "error",
     "traceback": [
      "\u001b[1;31m---------------------------------------------------------------------------\u001b[0m",
      "\u001b[1;31mNameError\u001b[0m                                 Traceback (most recent call last)",
      "\u001b[1;32m<ipython-input-6-66045dfae389>\u001b[0m in \u001b[0;36m<module>\u001b[1;34m\u001b[0m\n\u001b[0;32m     26\u001b[0m             \u001b[0mcompany_pre\u001b[0m\u001b[1;33m[\u001b[0m\u001b[0mcompany\u001b[0m\u001b[1;33m]\u001b[0m \u001b[1;33m=\u001b[0m \u001b[0mlen\u001b[0m\u001b[1;33m(\u001b[0m\u001b[0mresult\u001b[0m\u001b[1;33m)\u001b[0m\u001b[1;33m\u001b[0m\u001b[1;33m\u001b[0m\u001b[0m\n\u001b[0;32m     27\u001b[0m \u001b[1;33m\u001b[0m\u001b[0m\n\u001b[1;32m---> 28\u001b[1;33m \u001b[0msearch_by_companies\u001b[0m\u001b[1;33m(\u001b[0m\u001b[1;34m'ПАО Сбербанк'\u001b[0m\u001b[1;33m)\u001b[0m\u001b[1;33m\u001b[0m\u001b[1;33m\u001b[0m\u001b[0m\n\u001b[0m",
      "\u001b[1;32m<ipython-input-6-66045dfae389>\u001b[0m in \u001b[0;36msearch_by_companies\u001b[1;34m(*companies)\u001b[0m\n\u001b[0;32m     20\u001b[0m         \u001b[1;32mif\u001b[0m \u001b[0mlen\u001b[0m\u001b[1;33m(\u001b[0m\u001b[0mresult\u001b[0m\u001b[1;33m)\u001b[0m \u001b[1;33m>\u001b[0m \u001b[0mcompany_pre\u001b[0m\u001b[1;33m[\u001b[0m\u001b[0mcompany\u001b[0m\u001b[1;33m]\u001b[0m\u001b[1;33m:\u001b[0m\u001b[1;33m\u001b[0m\u001b[1;33m\u001b[0m\u001b[0m\n\u001b[0;32m     21\u001b[0m             \u001b[0mi\u001b[0m \u001b[1;33m=\u001b[0m \u001b[1;36m1\u001b[0m\u001b[1;33m\u001b[0m\u001b[1;33m\u001b[0m\u001b[0m\n\u001b[1;32m---> 22\u001b[1;33m             \u001b[1;32mfor\u001b[0m \u001b[0mtd\u001b[0m \u001b[1;32min\u001b[0m \u001b[0mrange\u001b[0m \u001b[1;33m(\u001b[0m\u001b[1;33m(\u001b[0m\u001b[0mlen\u001b[0m\u001b[1;33m(\u001b[0m\u001b[0mresult\u001b[0m\u001b[1;33m)\u001b[0m \u001b[1;33m-\u001b[0m \u001b[0mresult_pre\u001b[0m\u001b[1;33m)\u001b[0m\u001b[1;33m//\u001b[0m\u001b[1;36m3\u001b[0m\u001b[1;33m)\u001b[0m\u001b[1;33m:\u001b[0m\u001b[1;33m\u001b[0m\u001b[1;33m\u001b[0m\u001b[0m\n\u001b[0m\u001b[0;32m     23\u001b[0m \u001b[1;33m\u001b[0m\u001b[0m\n\u001b[0;32m     24\u001b[0m                     \u001b[0mprint\u001b[0m\u001b[1;33m(\u001b[0m\u001b[0mname\u001b[0m\u001b[1;33m,\u001b[0m \u001b[1;34m'Дата публикации - '\u001b[0m \u001b[1;33m+\u001b[0m \u001b[0mstr\u001b[0m\u001b[1;33m(\u001b[0m\u001b[0mresult\u001b[0m\u001b[1;33m[\u001b[0m\u001b[0mi\u001b[0m\u001b[1;33m]\u001b[0m\u001b[1;33m.\u001b[0m\u001b[0mtext\u001b[0m\u001b[1;33m)\u001b[0m\u001b[1;33m,\u001b[0m\u001b[0mresult\u001b[0m\u001b[1;33m[\u001b[0m\u001b[0mi\u001b[0m\u001b[1;33m+\u001b[0m\u001b[1;36m1\u001b[0m\u001b[1;33m]\u001b[0m\u001b[1;33m.\u001b[0m\u001b[0mtext\u001b[0m\u001b[1;33m,\u001b[0m\u001b[0mresult\u001b[0m\u001b[1;33m[\u001b[0m\u001b[0mi\u001b[0m\u001b[1;33m+\u001b[0m\u001b[1;36m1\u001b[0m\u001b[1;33m]\u001b[0m\u001b[1;33m.\u001b[0m\u001b[0ma\u001b[0m\u001b[1;33m.\u001b[0m\u001b[0mget\u001b[0m\u001b[1;33m(\u001b[0m\u001b[1;34m'href'\u001b[0m\u001b[1;33m)\u001b[0m\u001b[1;33m,\u001b[0m\u001b[0msep\u001b[0m \u001b[1;33m=\u001b[0m \u001b[1;34m'\\n'\u001b[0m\u001b[1;33m)\u001b[0m\u001b[1;33m\u001b[0m\u001b[1;33m\u001b[0m\u001b[0m\n",
      "\u001b[1;31mNameError\u001b[0m: name 'result_pre' is not defined"
     ]
    }
   ],
   "source": [
    "dictio = {}\n",
    "dictio['ПАО Сбербанк'] = 3043\n",
    "name = dictio.keys()\n",
    "\n",
    "\n",
    "\n",
    "\n",
    "\n",
    "def search_by_companies(*companies):\n",
    "    for company in companies:\n",
    "#         create the dict to control the number of new events\n",
    "        company_pre = {company:0}\n",
    "        request = urlopen('https://www.e-disclosure.ru/Event/Page?companyId=' + str(dictio[company]) +'&year=2020')\n",
    "        soup = bs(request, 'lxml')\n",
    "\n",
    "        \n",
    "        # It is supposed to infinitely parse ---> don't need to check more than 20 first values\n",
    "        result = soup.find_all('td')[:15]\n",
    "\n",
    "        if len(result) > company_pre[company]:\n",
    "            i = 1\n",
    "            for td in range ((len(result) - result_pre)//3):\n",
    "\n",
    "                    print(name, 'Дата публикации - ' + str(result[i].text),result[i+1].text,result[i+1].a.get('href'),sep = '\\n')\n",
    "                    i+=3\n",
    "            company_pre[company] = len(result)\n",
    "\n",
    "search_by_companies('ПАО Сбербанк')"
   ]
  },
  {
   "cell_type": "markdown",
   "metadata": {},
   "source": [
    "# SQL database"
   ]
  },
  {
   "cell_type": "markdown",
   "metadata": {},
   "source": [
    "# Test and training"
   ]
  },
  {
   "cell_type": "code",
   "execution_count": null,
   "metadata": {},
   "outputs": [],
   "source": [
    "conn = sqlite3.connect('Chinook_Sqlite.sqlite')\n",
    "\n",
    "# Создаем курсор - это специальный объект который делает запросы и получает их результаты\n",
    "cursor = conn.cursor()\n",
    "\n",
    "cursor.execute(\"SELECT Name FROM Artist LIMIT 3\")\n",
    "\n",
    "# Получаем результат сделанного запроса\n",
    "results = cursor.fetchall()\n",
    "results2 =  cursor.fetchall()\n",
    "\n",
    "print(*results)   # [('A Cor Do Som',), ('Aaron Copland & London Symphony Orchestra',), ('Aaron Goldberg',)]\n",
    "\n",
    "# Не забываем закрыть соединение с базой данных\n",
    "conn.close()"
   ]
  },
  {
   "cell_type": "markdown",
   "metadata": {},
   "source": [
    "# Working "
   ]
  },
  {
   "cell_type": "code",
   "execution_count": null,
   "metadata": {},
   "outputs": [],
   "source": [
    "conn = sqlite3.connect('Interfax_bot.sqlite')\n",
    "\n",
    "cursor = conn.cursor()\n",
    "\n",
    "\n",
    "cursor.execute(\"select Client_name from Clients\")\n",
    "print(cursor.fetchall())"
   ]
  },
  {
   "cell_type": "markdown",
   "metadata": {},
   "source": [
    "### Adding new clients"
   ]
  },
  {
   "cell_type": "markdown",
   "metadata": {},
   "source": [
    "### Check new or existing clients"
   ]
  },
  {
   "cell_type": "markdown",
   "metadata": {},
   "source": [
    "#### Add client function"
   ]
  },
  {
   "cell_type": "code",
   "execution_count": null,
   "metadata": {},
   "outputs": [],
   "source": [
    "# client_chat = 779224126\n",
    "# client_companies = '[2314,4526,124]'\n",
    "\n",
    "def add_client(client_chat,client_companies):\n",
    "    \"\"\" Adding new client to the database\"\"\"\n",
    "\n",
    "    conn = sqlite3.connect('Interfax_bot.sqlite')\n",
    "\n",
    "    cursor = conn.cursor()\n",
    "\n",
    "    # Данные нужно передавать кортежем. Даже одну запись\n",
    "    \n",
    "    \n",
    "    cursor.execute(\"insert into Clients values (Null, ?, ?);\", (client_chat, client_companies))\n",
    "\n",
    "    conn.commit()"
   ]
  },
  {
   "cell_type": "markdown",
   "metadata": {},
   "source": [
    "#### Add or update client function(The main function). Don't need to use the previous function, since it is included in the current one"
   ]
  },
  {
   "cell_type": "code",
   "execution_count": null,
   "metadata": {},
   "outputs": [],
   "source": [
    "def add_update(name,companies):    \n",
    "    \n",
    "    conn = sqlite3.connect('Interfax_bot.sqlite')\n",
    "\n",
    "    cursor = conn.cursor()\n",
    "\n",
    "    cursor.execute('select ID from Clients where Client_name = ?;',(name,))\n",
    "\n",
    "    res = cursor.fetchone()\n",
    "\n",
    "    if res == None:\n",
    "        add_client(name,companies)\n",
    "    else:\n",
    "        cursor.execute('''update Clients \n",
    "                          set Client_name = ?, companies = ? \n",
    "                          where ID = ?;''',(name, companies, res[0]))\n",
    "        conn.commit() \n",
    "    # res[0] is the ID value itself, since fetchone returns a tuple\n",
    "       "
   ]
  },
  {
   "cell_type": "code",
   "execution_count": null,
   "metadata": {},
   "outputs": [],
   "source": [
    "# add_update(987,'[12345,6789]')\n",
    "# add_update(1345,'[1234]')"
   ]
  },
  {
   "cell_type": "code",
   "execution_count": null,
   "metadata": {},
   "outputs": [],
   "source": []
  },
  {
   "cell_type": "markdown",
   "metadata": {},
   "source": [
    "#### Function to retrieve company codes as a set"
   ]
  },
  {
   "cell_type": "code",
   "execution_count": 38,
   "metadata": {},
   "outputs": [],
   "source": [
    "def retrieve_code(string):\n",
    "    dic = list(map(str, string.replace('{','').replace('}','').split(',')))\n",
    "    dic = set(dic)\n",
    "    return dic"
   ]
  },
  {
   "cell_type": "code",
   "execution_count": null,
   "metadata": {},
   "outputs": [],
   "source": [
    "print(retrieve_code('{3445,4252,2156,1345}'))"
   ]
  },
  {
   "cell_type": "markdown",
   "metadata": {},
   "source": [
    "#### Function to create a string from a set"
   ]
  },
  {
   "cell_type": "code",
   "execution_count": 39,
   "metadata": {},
   "outputs": [],
   "source": [
    "def create_string(array):\n",
    "    \n",
    "    string = '{'\n",
    "    for i in array:\n",
    "        if i == '':\n",
    "            continue\n",
    "        string = string + str(i) + ','\n",
    "    string = string[:-1] + '}'\n",
    "    return string"
   ]
  },
  {
   "cell_type": "code",
   "execution_count": null,
   "metadata": {},
   "outputs": [],
   "source": [
    "i = set([5434, 134, 670, 243])\n",
    "\n",
    "print(create_string(i))"
   ]
  },
  {
   "cell_type": "code",
   "execution_count": null,
   "metadata": {},
   "outputs": [],
   "source": [
    "clients = {779224126 : []} # a new client's chat_id is added ones he presses /start\n",
    "\n",
    "diction ={'18278':['Ale','Ma','Joh'], '2464':['a','b','c']} # the reverse dictio containing company numbers and clients' chat_id\n"
   ]
  },
  {
   "cell_type": "markdown",
   "metadata": {},
   "source": [
    "# Algorithm to add clients code to every company"
   ]
  },
  {
   "cell_type": "code",
   "execution_count": 43,
   "metadata": {},
   "outputs": [],
   "source": [
    "# This needs to be done at the moment the companies' set is created in the python/\n",
    "# At that moment I need to reverse it and add the client_chat to every company code in the other table\n",
    "# I will need to add the mechanism of checking the existing and -non-existing company codes later\n",
    "\n",
    "\n",
    "# client = 1234\n",
    "# companies = '{1234,567,945}'\n",
    "\n",
    "def add_subscribers(companies,client):\n",
    "    \"\"\" Updates the set of subscribers for every company the new client has chosen\"\"\"\n",
    "    \n",
    "\n",
    "    conn = sqlite3.connect('Company_codes_to_clients.sqlite')\n",
    "    cursor = conn.cursor()\n",
    "    \n",
    "#   Since this module will work right after the client chooses companies, the given array of companies codes will be a set\n",
    "    for i in companies:\n",
    "\n",
    "    # retrieve the existing string of clients for the company\n",
    "    # convert it to set\n",
    "    # add the client to this set\n",
    "    # convert back to string\n",
    "    # update the table\n",
    "\n",
    "        cursor.execute('select Chat_codes from Companies where Company_name = ?;',(i,))\n",
    "        chat_codes = retrieve_code((cursor.fetchone()[0]))\n",
    "        chat_codes.add(client)\n",
    "        update = create_string(chat_codes)\n",
    "        cursor.execute(\"\"\"\n",
    "                        update Companies \n",
    "                        set Chat_codes = ?\n",
    "                        where Company_name = ?\n",
    "\n",
    "                        \"\"\",(update,i))\n",
    "        conn.commit()\n"
   ]
  },
  {
   "cell_type": "code",
   "execution_count": null,
   "metadata": {},
   "outputs": [],
   "source": [
    "conn = sqlite3.connect('Interfax_bot.sqlite')"
   ]
  },
  {
   "cell_type": "code",
   "execution_count": null,
   "metadata": {
    "scrolled": true
   },
   "outputs": [],
   "source": [
    "add_subscribers({567, 945},5876413)"
   ]
  },
  {
   "cell_type": "code",
   "execution_count": null,
   "metadata": {},
   "outputs": [],
   "source": [
    "cursor.execute('select Chat_codes from Companies where ID = 4')\n",
    "print(retrieve_code(cursor.fetchone()[0]))"
   ]
  },
  {
   "cell_type": "code",
   "execution_count": null,
   "metadata": {},
   "outputs": [],
   "source": []
  },
  {
   "cell_type": "markdown",
   "metadata": {},
   "source": [
    "# Algorithm to search and add companies(for the client)"
   ]
  },
  {
   "cell_type": "markdown",
   "metadata": {},
   "source": [
    "### Эту хрень нужно поставить внутрь хендлеров\n",
    "### Какая-то часть работает - это радует"
   ]
  },
  {
   "cell_type": "code",
   "execution_count": 7,
   "metadata": {},
   "outputs": [],
   "source": [
    "def choose_companies(message):\n",
    "    conn = sqlite3.connect('Company_codes_to_clients.sqlite')\n",
    "    cursor = conn.cursor()\n",
    "    cursor.execute('select Company_name from Companies')\n",
    "    companies = cursor.fetchall()\n",
    "    \n",
    "    comp_list = {}\n",
    "    \n",
    "    bot.send_message(message.chat.id, 'Напиши название компании.')\n",
    "    company = message.text\n",
    "    for i in companies:\n",
    "        if company in i[0]:\n",
    "            comp_list.add(i[0])\n",
    "            bot.send_message(message.chat.id, 'Добавил')\n",
    "\n",
    "        \n",
    "    bot.send_message(message.chat.id, 'Напиши имя следующей компании если хочешь добавить еще. Когда закончишь, напиши \"/end\"')\n",
    "    \n",
    "    return comp_list\n",
    "# for i in dictio.keys():\n",
    "#     if name.lower() in i: \n",
    "#         print(i)"
   ]
  },
  {
   "cell_type": "markdown",
   "metadata": {},
   "source": [
    "### Adding the company_names and codes to DB - Done"
   ]
  },
  {
   "cell_type": "code",
   "execution_count": null,
   "metadata": {},
   "outputs": [],
   "source": [
    "# I need to read it from Sqlite and not keep in memory, since the users will not add new companies constantly\n",
    "\n",
    "companies_names = pd.read_csv('interfax_companies.csv', encoding = 'windows-1251', index_col = 0)\n",
    "\n",
    "companies = companies_names['company'].to_list()\n",
    "ids = companies_names['comp_id'].to_list()\n",
    "\n",
    "dictio = {}\n",
    "companies_low = [i.lower() for i in companies]\n",
    "\n",
    "for i in range(len(companies)):\n",
    "    dictio[companies_low[i]] = ids[i]\n",
    "print(dictio)\n",
    "\n",
    "\n",
    "# UNCOMMENT THIS WHEN NEED TO UPDATE THE DATABASE - BUT BE CAREFUL. IT WILL REMOVE ALL THE EXISTING CLIENTS FOR EACH COMPANY\n",
    "# SO CREATE THE DICTION WITH ONLY NEW COMPANIES AND DO THAT\n",
    "\n",
    "# conn = sqlite3.connect('Company_codes_to_clients.sqlite')\n",
    "\n",
    "# cursor = conn.cursor()\n",
    "\n",
    "\n",
    "# for i in range(len(companies)):\n",
    "#     cursor.execute('insert into Companies values (Null, ?,?,?)',(companies_low[i],ids[i],'{}'))\n",
    "# conn.commit()"
   ]
  },
  {
   "cell_type": "markdown",
   "metadata": {},
   "source": [
    "# Telegram bot"
   ]
  },
  {
   "cell_type": "markdown",
   "metadata": {},
   "source": [
    "### News check"
   ]
  },
  {
   "cell_type": "code",
   "execution_count": null,
   "metadata": {},
   "outputs": [],
   "source": [
    "def news_check(message):\n",
    "    url = 'https://www.e-disclosure.ru/'\n",
    "# set up driver for working with js - BS4 will not find the table \n",
    "    driver = webdriver.Firefox()\n",
    "    driver.implicitly_wait(30)\n",
    "    driver.get(url)\n",
    "# press button 'search'\n",
    "    python_button = driver.find_element_by_id('butt') #FHSU\n",
    "    python_button.click() #click fhsu link\n",
    "    \n",
    "    soup = bs(driver.page_source, 'lxml')\n",
    "    res = soup.find_all('a')\n",
    "\n",
    "    for a in range(42,72,2):\n",
    "        bot.send_message(message.chat.id, res[a].text + '\\n' + str(res[a+1].text) + ' ' + str(res[a+1].get('href')))\n"
   ]
  },
  {
   "cell_type": "markdown",
   "metadata": {},
   "source": [
    "### Subscription module"
   ]
  },
  {
   "cell_type": "markdown",
   "metadata": {},
   "source": [
    "#### Finding table with last 20 news "
   ]
  },
  {
   "cell_type": "code",
   "execution_count": 34,
   "metadata": {},
   "outputs": [],
   "source": [
    "def find_news():\n",
    "    url = 'https://www.e-disclosure.ru/poisk-po-soobshheniyam'\n",
    "\n",
    "    driver = webdriver.Firefox()\n",
    "    driver.implicitly_wait(30)\n",
    "    driver.get(url)\n",
    "\n",
    "    python_button = driver.find_element_by_id('butt') #FHSU\n",
    "    python_button.click() #click fhsu link\n",
    "    #  Выбрать пункт 20 и нажать\n",
    "    python_button2 = driver.find_element_by_xpath('//*[@id=\"pageSize\"]/option[2]')\n",
    "    python_button2.click()\n",
    "\n",
    "    time.sleep(4)\n",
    "    soup = bs(driver.page_source, 'lxml')\n",
    "    res = soup.find_all('tbody')\n",
    "\n",
    "    global table\n",
    "    table = res[-9]\n",
    "\n",
    "    driver.quit()\n"
   ]
  },
  {
   "cell_type": "markdown",
   "metadata": {},
   "source": [
    "### Retrieving code"
   ]
  },
  {
   "cell_type": "code",
   "execution_count": 35,
   "metadata": {},
   "outputs": [],
   "source": [
    "def firm_code_from_link(link):\n",
    "    equal = link.rfind('=')\n",
    "    code = link[equal+1:]\n",
    "    return code"
   ]
  },
  {
   "cell_type": "markdown",
   "metadata": {},
   "source": [
    "### Sending news to all the firms subscribers"
   ]
  },
  {
   "cell_type": "markdown",
   "metadata": {},
   "source": [
    "### Now works with DB"
   ]
  },
  {
   "cell_type": "code",
   "execution_count": 96,
   "metadata": {},
   "outputs": [],
   "source": [
    "def subscribers(link,info):\n",
    "    conn = sqlite3.connect('Company_codes_to_clients.sqlite')\n",
    "    \n",
    "    cursor = conn.cursor()\n",
    "    code = firm_code_from_link(link)\n",
    "    \n",
    "    cursor.execute('select Chat_codes from Companies where Code = ?', (code,))\n",
    "    chat_codes = cursor.fetchall()\n",
    "    \n",
    "    \n",
    "    if len(chat_codes) == 0:\n",
    "        print(0)\n",
    "    else:\n",
    "        for i in retrieve_code(chat_codes[0][0]):\n",
    "            bot.send_message(i,info)\n",
    "        \n",
    "   "
   ]
  },
  {
   "cell_type": "code",
   "execution_count": 97,
   "metadata": {},
   "outputs": [
    {
     "name": "stdout",
     "output_type": "stream",
     "text": [
      "0\n"
     ]
    }
   ],
   "source": [
    "subscribers('https://www.e-disclosure.ru/portal/company.aspx?id=65','123')"
   ]
  },
  {
   "cell_type": "code",
   "execution_count": 99,
   "metadata": {},
   "outputs": [
    {
     "name": "stdout",
     "output_type": "stream",
     "text": [
      "0\n"
     ]
    }
   ],
   "source": [
    "subscribers('https://www.e-disclosure.ru/portal/company.aspx?id=65','hello')"
   ]
  },
  {
   "cell_type": "markdown",
   "metadata": {},
   "source": [
    "#### Choosing only new events with the help of date-time and returning them"
   ]
  },
  {
   "cell_type": "code",
   "execution_count": 104,
   "metadata": {
    "scrolled": true
   },
   "outputs": [],
   "source": [
    "td_last = 270520201800\n",
    "def send_news():\n",
    "\n",
    "    global td_last\n",
    "    \n",
    "    #  Here i need to define all the variables I will use in this module\n",
    "    def number_date(text):\n",
    "        '''Function to convert date into an int for comparison and searching relevant news'''\n",
    "        pre_res = text.split()\n",
    "        one = pre_res[0].replace('.','') \n",
    "        two = pre_res[1].replace(':','')\n",
    "        res = int(one+two)\n",
    "        return res\n",
    "\n",
    "\n",
    "\n",
    "    iterat = table.contents  # all tr in the table\n",
    "\n",
    "    \n",
    "        \n",
    "    for child in range(0,len(iterat),2):\n",
    "    # for some reason there are empty cells in [0],[2],[4] and etc. rows, so I need to go through odd ones\n",
    "        date = iterat[child].contents[1].text # first td with the date and time\n",
    "        if number_date(date) > td_last:\n",
    "    #         iterat[child].contents[3] is the second td containing company name and the event name. However, there are two <a> tags, \n",
    "    #         one with company name, the other with the event. Therefore another method, contents[0].text - company and contents[3].text - event, is used.\n",
    "            info = str(iterat[child].contents[3].contents[0].text) + '\\n' + str(iterat[child].contents[3].contents[3].text) + ' ' + str(iterat[child].contents[3].contents[3].get('href'))\n",
    "            link = iterat[child].contents[3].contents[0].get('href') \n",
    "\n",
    "\n",
    "            subscribers(link, info)\n",
    "\n",
    "        # td_last is the last time we checked news - it is equiualent to the top row news data in the current session.\n",
    "\n",
    "\n",
    "\n",
    "    td_last = number_date(iterat[0].contents[1].text) \n",
    "\n",
    "\n"
   ]
  },
  {
   "cell_type": "code",
   "execution_count": 101,
   "metadata": {},
   "outputs": [
    {
     "name": "stdout",
     "output_type": "stream",
     "text": [
      "0\n",
      "0\n",
      "0\n",
      "0\n",
      "0\n",
      "0\n",
      "0\n"
     ]
    },
    {
     "ename": "ApiException",
     "evalue": "A request to the Telegram API was unsuccessful. The server returned HTTP 400 Bad Request. Response body:\n[b'{\"ok\":false,\"error_code\":400,\"description\":\"Bad Request: chat_id is empty\"}']",
     "output_type": "error",
     "traceback": [
      "\u001b[1;31m---------------------------------------------------------------------------\u001b[0m",
      "\u001b[1;31mApiException\u001b[0m                              Traceback (most recent call last)",
      "\u001b[1;32m<ipython-input-101-76d18713ee15>\u001b[0m in \u001b[0;36m<module>\u001b[1;34m\u001b[0m\n\u001b[1;32m----> 1\u001b[1;33m \u001b[0msend_news\u001b[0m\u001b[1;33m(\u001b[0m\u001b[1;33m)\u001b[0m\u001b[1;33m\u001b[0m\u001b[1;33m\u001b[0m\u001b[0m\n\u001b[0m",
      "\u001b[1;32m<ipython-input-100-464f6a00d9bc>\u001b[0m in \u001b[0;36msend_news\u001b[1;34m()\u001b[0m\n\u001b[0;32m     29\u001b[0m \u001b[1;33m\u001b[0m\u001b[0m\n\u001b[0;32m     30\u001b[0m \u001b[1;33m\u001b[0m\u001b[0m\n\u001b[1;32m---> 31\u001b[1;33m             \u001b[0msubscribers\u001b[0m\u001b[1;33m(\u001b[0m\u001b[0mlink\u001b[0m\u001b[1;33m,\u001b[0m \u001b[0minfo\u001b[0m\u001b[1;33m)\u001b[0m\u001b[1;33m\u001b[0m\u001b[1;33m\u001b[0m\u001b[0m\n\u001b[0m\u001b[0;32m     32\u001b[0m \u001b[1;33m\u001b[0m\u001b[0m\n\u001b[0;32m     33\u001b[0m         \u001b[1;31m# td_last is the last time we checked news - it is equiualent to the top row news data in the current session.\u001b[0m\u001b[1;33m\u001b[0m\u001b[1;33m\u001b[0m\u001b[1;33m\u001b[0m\u001b[0m\n",
      "\u001b[1;32m<ipython-input-96-d8def814398e>\u001b[0m in \u001b[0;36msubscribers\u001b[1;34m(link, info)\u001b[0m\n\u001b[0;32m     13\u001b[0m     \u001b[1;32melse\u001b[0m\u001b[1;33m:\u001b[0m\u001b[1;33m\u001b[0m\u001b[1;33m\u001b[0m\u001b[0m\n\u001b[0;32m     14\u001b[0m         \u001b[1;32mfor\u001b[0m \u001b[0mi\u001b[0m \u001b[1;32min\u001b[0m \u001b[0mretrieve_code\u001b[0m\u001b[1;33m(\u001b[0m\u001b[0mchat_codes\u001b[0m\u001b[1;33m[\u001b[0m\u001b[1;36m0\u001b[0m\u001b[1;33m]\u001b[0m\u001b[1;33m[\u001b[0m\u001b[1;36m0\u001b[0m\u001b[1;33m]\u001b[0m\u001b[1;33m)\u001b[0m\u001b[1;33m:\u001b[0m\u001b[1;33m\u001b[0m\u001b[1;33m\u001b[0m\u001b[0m\n\u001b[1;32m---> 15\u001b[1;33m             \u001b[0mbot\u001b[0m\u001b[1;33m.\u001b[0m\u001b[0msend_message\u001b[0m\u001b[1;33m(\u001b[0m\u001b[0mi\u001b[0m\u001b[1;33m,\u001b[0m\u001b[0minfo\u001b[0m\u001b[1;33m)\u001b[0m\u001b[1;33m\u001b[0m\u001b[1;33m\u001b[0m\u001b[0m\n\u001b[0m\u001b[0;32m     16\u001b[0m \u001b[1;33m\u001b[0m\u001b[0m\n\u001b[0;32m     17\u001b[0m \u001b[1;33m\u001b[0m\u001b[0m\n",
      "\u001b[1;32m~\\Anaconda3\\lib\\site-packages\\telebot\\__init__.py\u001b[0m in \u001b[0;36msend_message\u001b[1;34m(self, chat_id, text, disable_web_page_preview, reply_to_message_id, reply_markup, parse_mode, disable_notification, timeout)\u001b[0m\n\u001b[0;32m    623\u001b[0m         return types.Message.de_json(\n\u001b[0;32m    624\u001b[0m             apihelper.send_message(self.token, chat_id, text, disable_web_page_preview, reply_to_message_id,\n\u001b[1;32m--> 625\u001b[1;33m                                    reply_markup, parse_mode, disable_notification, timeout))\n\u001b[0m\u001b[0;32m    626\u001b[0m \u001b[1;33m\u001b[0m\u001b[0m\n\u001b[0;32m    627\u001b[0m     \u001b[1;32mdef\u001b[0m \u001b[0mforward_message\u001b[0m\u001b[1;33m(\u001b[0m\u001b[0mself\u001b[0m\u001b[1;33m,\u001b[0m \u001b[0mchat_id\u001b[0m\u001b[1;33m,\u001b[0m \u001b[0mfrom_chat_id\u001b[0m\u001b[1;33m,\u001b[0m \u001b[0mmessage_id\u001b[0m\u001b[1;33m,\u001b[0m \u001b[0mdisable_notification\u001b[0m\u001b[1;33m=\u001b[0m\u001b[1;32mNone\u001b[0m\u001b[1;33m)\u001b[0m\u001b[1;33m:\u001b[0m\u001b[1;33m\u001b[0m\u001b[1;33m\u001b[0m\u001b[0m\n",
      "\u001b[1;32m~\\Anaconda3\\lib\\site-packages\\telebot\\apihelper.py\u001b[0m in \u001b[0;36msend_message\u001b[1;34m(token, chat_id, text, disable_web_page_preview, reply_to_message_id, reply_markup, parse_mode, disable_notification, timeout)\u001b[0m\n\u001b[0;32m    157\u001b[0m     \u001b[1;32mif\u001b[0m \u001b[0mtimeout\u001b[0m\u001b[1;33m:\u001b[0m\u001b[1;33m\u001b[0m\u001b[1;33m\u001b[0m\u001b[0m\n\u001b[0;32m    158\u001b[0m         \u001b[0mpayload\u001b[0m\u001b[1;33m[\u001b[0m\u001b[1;34m'connect-timeout'\u001b[0m\u001b[1;33m]\u001b[0m \u001b[1;33m=\u001b[0m \u001b[0mtimeout\u001b[0m\u001b[1;33m\u001b[0m\u001b[1;33m\u001b[0m\u001b[0m\n\u001b[1;32m--> 159\u001b[1;33m     \u001b[1;32mreturn\u001b[0m \u001b[0m_make_request\u001b[0m\u001b[1;33m(\u001b[0m\u001b[0mtoken\u001b[0m\u001b[1;33m,\u001b[0m \u001b[0mmethod_url\u001b[0m\u001b[1;33m,\u001b[0m \u001b[0mparams\u001b[0m\u001b[1;33m=\u001b[0m\u001b[0mpayload\u001b[0m\u001b[1;33m,\u001b[0m \u001b[0mmethod\u001b[0m\u001b[1;33m=\u001b[0m\u001b[1;34m'post'\u001b[0m\u001b[1;33m)\u001b[0m\u001b[1;33m\u001b[0m\u001b[1;33m\u001b[0m\u001b[0m\n\u001b[0m\u001b[0;32m    160\u001b[0m \u001b[1;33m\u001b[0m\u001b[0m\n\u001b[0;32m    161\u001b[0m \u001b[1;33m\u001b[0m\u001b[0m\n",
      "\u001b[1;32m~\\Anaconda3\\lib\\site-packages\\telebot\\apihelper.py\u001b[0m in \u001b[0;36m_make_request\u001b[1;34m(token, method_name, method, params, files)\u001b[0m\n\u001b[0;32m     63\u001b[0m                                         timeout=(connect_timeout, read_timeout), proxies=proxy)\n\u001b[0;32m     64\u001b[0m     \u001b[0mlogger\u001b[0m\u001b[1;33m.\u001b[0m\u001b[0mdebug\u001b[0m\u001b[1;33m(\u001b[0m\u001b[1;34m\"The server returned: '{0}'\"\u001b[0m\u001b[1;33m.\u001b[0m\u001b[0mformat\u001b[0m\u001b[1;33m(\u001b[0m\u001b[0mresult\u001b[0m\u001b[1;33m.\u001b[0m\u001b[0mtext\u001b[0m\u001b[1;33m.\u001b[0m\u001b[0mencode\u001b[0m\u001b[1;33m(\u001b[0m\u001b[1;34m'utf8'\u001b[0m\u001b[1;33m)\u001b[0m\u001b[1;33m)\u001b[0m\u001b[1;33m)\u001b[0m\u001b[1;33m\u001b[0m\u001b[1;33m\u001b[0m\u001b[0m\n\u001b[1;32m---> 65\u001b[1;33m     \u001b[1;32mreturn\u001b[0m \u001b[0m_check_result\u001b[0m\u001b[1;33m(\u001b[0m\u001b[0mmethod_name\u001b[0m\u001b[1;33m,\u001b[0m \u001b[0mresult\u001b[0m\u001b[1;33m)\u001b[0m\u001b[1;33m[\u001b[0m\u001b[1;34m'result'\u001b[0m\u001b[1;33m]\u001b[0m\u001b[1;33m\u001b[0m\u001b[1;33m\u001b[0m\u001b[0m\n\u001b[0m\u001b[0;32m     66\u001b[0m \u001b[1;33m\u001b[0m\u001b[0m\n\u001b[0;32m     67\u001b[0m \u001b[1;33m\u001b[0m\u001b[0m\n",
      "\u001b[1;32m~\\Anaconda3\\lib\\site-packages\\telebot\\apihelper.py\u001b[0m in \u001b[0;36m_check_result\u001b[1;34m(method_name, result)\u001b[0m\n\u001b[0;32m     82\u001b[0m         \u001b[0mmsg\u001b[0m \u001b[1;33m=\u001b[0m \u001b[1;34m'The server returned HTTP {0} {1}. Response body:\\n[{2}]'\u001b[0m\u001b[0;31m \u001b[0m\u001b[0;31m\\\u001b[0m\u001b[1;33m\u001b[0m\u001b[1;33m\u001b[0m\u001b[0m\n\u001b[0;32m     83\u001b[0m             \u001b[1;33m.\u001b[0m\u001b[0mformat\u001b[0m\u001b[1;33m(\u001b[0m\u001b[0mresult\u001b[0m\u001b[1;33m.\u001b[0m\u001b[0mstatus_code\u001b[0m\u001b[1;33m,\u001b[0m \u001b[0mresult\u001b[0m\u001b[1;33m.\u001b[0m\u001b[0mreason\u001b[0m\u001b[1;33m,\u001b[0m \u001b[0mresult\u001b[0m\u001b[1;33m.\u001b[0m\u001b[0mtext\u001b[0m\u001b[1;33m.\u001b[0m\u001b[0mencode\u001b[0m\u001b[1;33m(\u001b[0m\u001b[1;34m'utf8'\u001b[0m\u001b[1;33m)\u001b[0m\u001b[1;33m)\u001b[0m\u001b[1;33m\u001b[0m\u001b[1;33m\u001b[0m\u001b[0m\n\u001b[1;32m---> 84\u001b[1;33m         \u001b[1;32mraise\u001b[0m \u001b[0mApiException\u001b[0m\u001b[1;33m(\u001b[0m\u001b[0mmsg\u001b[0m\u001b[1;33m,\u001b[0m \u001b[0mmethod_name\u001b[0m\u001b[1;33m,\u001b[0m \u001b[0mresult\u001b[0m\u001b[1;33m)\u001b[0m\u001b[1;33m\u001b[0m\u001b[1;33m\u001b[0m\u001b[0m\n\u001b[0m\u001b[0;32m     85\u001b[0m \u001b[1;33m\u001b[0m\u001b[0m\n\u001b[0;32m     86\u001b[0m     \u001b[1;32mtry\u001b[0m\u001b[1;33m:\u001b[0m\u001b[1;33m\u001b[0m\u001b[1;33m\u001b[0m\u001b[0m\n",
      "\u001b[1;31mApiException\u001b[0m: A request to the Telegram API was unsuccessful. The server returned HTTP 400 Bad Request. Response body:\n[b'{\"ok\":false,\"error_code\":400,\"description\":\"Bad Request: chat_id is empty\"}']"
     ]
    }
   ],
   "source": []
  },
  {
   "cell_type": "markdown",
   "metadata": {},
   "source": [
    "### The Bot"
   ]
  },
  {
   "cell_type": "code",
   "execution_count": 105,
   "metadata": {
    "scrolled": true
   },
   "outputs": [
    {
     "name": "stdout",
     "output_type": "stream",
     "text": [
      "0\n",
      "0\n",
      "0\n"
     ]
    },
    {
     "name": "stderr",
     "output_type": "stream",
     "text": [
      "2020-05-28 22:16:55,407 (util.py:68 WorkerThread14) ERROR - TeleBot: \"ApiException occurred, args=('A request to the Telegram API was unsuccessful. The server returned HTTP 400 Bad Request. Response body:\\n[b\\'{\"ok\":false,\"error_code\":400,\"description\":\"Bad Request: chat_id is empty\"}\\']',)\n",
      "Traceback (most recent call last):\n",
      "  File \"C:\\Users\\azhur\\Anaconda3\\lib\\site-packages\\telebot\\util.py\", line 62, in run\n",
      "    task(*args, **kwargs)\n",
      "  File \"<ipython-input-105-9a0892d4d8d7>\", line 111, in callback_worker\n",
      "    send_news()\n",
      "  File \"<ipython-input-104-464f6a00d9bc>\", line 31, in send_news\n",
      "    subscribers(link, info)\n",
      "  File \"<ipython-input-96-d8def814398e>\", line 15, in subscribers\n",
      "    bot.send_message(i,info)\n",
      "  File \"C:\\Users\\azhur\\Anaconda3\\lib\\site-packages\\telebot\\__init__.py\", line 625, in send_message\n",
      "    reply_markup, parse_mode, disable_notification, timeout))\n",
      "  File \"C:\\Users\\azhur\\Anaconda3\\lib\\site-packages\\telebot\\apihelper.py\", line 159, in send_message\n",
      "    return _make_request(token, method_url, params=payload, method='post')\n",
      "  File \"C:\\Users\\azhur\\Anaconda3\\lib\\site-packages\\telebot\\apihelper.py\", line 65, in _make_request\n",
      "    return _check_result(method_name, result)['result']\n",
      "  File \"C:\\Users\\azhur\\Anaconda3\\lib\\site-packages\\telebot\\apihelper.py\", line 84, in _check_result\n",
      "    raise ApiException(msg, method_name, result)\n",
      "telebot.apihelper.ApiException: A request to the Telegram API was unsuccessful. The server returned HTTP 400 Bad Request. Response body:\n",
      "[b'{\"ok\":false,\"error_code\":400,\"description\":\"Bad Request: chat_id is empty\"}']\n",
      "\"\n",
      "2020-05-28 22:16:55,412 (__init__.py:443 MainThread) ERROR - TeleBot: \"A request to the Telegram API was unsuccessful. The server returned HTTP 400 Bad Request. Response body:\n",
      "[b'{\"ok\":false,\"error_code\":400,\"description\":\"Bad Request: chat_id is empty\"}']\"\n"
     ]
    },
    {
     "name": "stdout",
     "output_type": "stream",
     "text": [
      "0\n",
      "0\n",
      "0\n",
      "0\n"
     ]
    }
   ],
   "source": [
    "import telebot\n",
    "\n",
    "token = '1145245715:AAGmd4yheC8AlBpZ5ssHqQm9-1hpt_mkAT0'\n",
    "\n",
    "bot = telebot.TeleBot(token)\n",
    "\n",
    "keyboard1 = telebot.types.ReplyKeyboardMarkup()\n",
    "keyboard1.row('Последние новости', 'Выбрать компании')\n",
    "\n",
    "keyboard2 = telebot.types.InlineKeyboardMarkup(); #наша клавиатура\n",
    "key_one = telebot.types.InlineKeyboardButton(text='Новости', callback_data='news'); #кнопка «Да»\n",
    "keyboard2.add(key_one); #добавляем кнопку в клавиатуру\n",
    "key_two = telebot.types.InlineKeyboardButton(text='Выбрать компании', callback_data='companies');\n",
    "keyboard2.add(key_two);\n",
    "\n",
    "comp_list = set()\n",
    "\n",
    "@bot.message_handler(commands=['start'])\n",
    "def start_message(message):\n",
    "    bot.send_message(message.chat.id, 'Привет, я бот раскрытия. В текущей версии я буду отправлять тебе новости о последних раскрытиях в реальном времени.')\n",
    "    bot.send_message(message.chat.id, 'Какую опцию выберешь?', reply_markup = keyboard2)\n",
    "    chat_id = message.chat.id\n",
    "#     I need to add clients chat_id to SQLite database later\n",
    "    \n",
    "@bot.message_handler(content_types = ['text'])\n",
    "def init_choose_companies(message):\n",
    "    conn = sqlite3.connect('Company_codes_to_clients.sqlite')\n",
    "    cursor = conn.cursor()\n",
    "    cursor.execute('select Company_name from Companies')\n",
    "    \n",
    "    comp = cursor.fetchall()\n",
    "    \n",
    "    global companies\n",
    "    \n",
    "    companies = list()\n",
    "    \n",
    "    for i in comp:\n",
    "        companies.append(i[0]) \n",
    "    \n",
    "    \n",
    "\n",
    "    msg = bot.send_message(message.chat.id, 'Напиши название компании')\n",
    "    bot.register_next_step_handler(msg,choose_companies)\n",
    "    \n",
    "    \n",
    "def  choose_companies(message):\n",
    "    \n",
    "    global comp_list\n",
    "    \n",
    "    company = message.text\n",
    "    \n",
    "    if company =='/end':\n",
    "        \n",
    "#         for i in comp_list:\n",
    "#             bot.send_message(message.chat.id, str(i))\n",
    "# add all the chosen companies to the DB\n",
    "        add_subscribers(comp_list, message.chat.id)\n",
    "        \n",
    "        \n",
    "        bot.send_message(message.chat.id,'Thanks')\n",
    "#         here I nullify the variable comp_list for the next user - need to check whether this works\n",
    "        comp_list = set()\n",
    "        \n",
    "    else:\n",
    "        comp_results = list()\n",
    "        for i in companies:\n",
    "            if company.lower() in i:\n",
    "                comp_results.append(i)\n",
    "        \n",
    "        if len(comp_results) == 1:\n",
    "            bot.send_message(message.chat.id, 'Добавил')\n",
    "            comp_list.add(comp_results[0])\n",
    "            msg = bot.send_message(message.chat.id, 'Напиши название следующей компании или \"/end\" если хочешь закончить.')\n",
    "            bot.register_next_step_handler(msg, choose_companies)\n",
    "        \n",
    "        elif len(comp_results) > 1:\n",
    "            msg = bot.send_message(message.chat.id, 'Я нашел несколько результатов. Напиши название того, который нужен')\n",
    "            \n",
    "            for a in comp_results:\n",
    "                bot.send_message(message.chat.id, str(a))\n",
    "            \n",
    "            bot.register_next_step_handler(msg, choose_companies)\n",
    "        \n",
    "        else:\n",
    "            msg = bot.send_message(message.chat.id, 'Не смог найти такую компанию.' +'\\n' + 'Напиши название следующей компании или \"/end\" если хочешь закончить.')\n",
    "            bot.register_next_step_handler(msg, choose_companies)    \n",
    "    \n",
    "#         if company not in companies:\n",
    "#             bot.send_message(message.chat.id, 'Не смог найти такую компанию')\n",
    "#             msg = bot.send_message(message.chat.id, 'Напиши название следующей компании или \"/end\" если хочешь закончить.')\n",
    "#             bot.register_next_step_handler(msg,choose_companies)\n",
    "\n",
    "    \n",
    "    \n",
    "    \n",
    "        \n",
    "    \n",
    "\n",
    "    \n",
    "    \n",
    "# for i in dictio.keys():\n",
    "#     if name.lower() in i: \n",
    "#         print(i)    \n",
    "        \n",
    "\n",
    "@bot.callback_query_handler(func=lambda call: True)\n",
    "def callback_worker(call):\n",
    "    chat = call.message\n",
    "    if call.data == \"news\": #call.data это callback_data, которую мы указали при объявлении кнопки\n",
    "        find_news()\n",
    "        send_news()\n",
    "    elif call.data == \"companies\":\n",
    "        init_choose_companies(chat)\n",
    "        \n",
    "        \n",
    "        \n",
    "\n",
    "bot.polling()"
   ]
  },
  {
   "cell_type": "code",
   "execution_count": 5,
   "metadata": {},
   "outputs": [
    {
     "name": "stdout",
     "output_type": "stream",
     "text": [
      "['ао \"дом.рф\"', 'пао банк зенит', 'пао \"калужская сбытовая компания\"', 'пао мособлбанк', 'оао \"левенгук\"', 'пао \"гк \"нижегородский\"', 'пао \"кзф\"', 'ао бпжт', 'оао \"швейная фабрика \"победа\"', 'ао \"пз \"расцвет\"', 'оао \"мповти\"', 'ао \"авангард-агро\"', 'ооо «сфо сфи»', 'оао \"демидов-авто\"', 'ао \"ифз\"', 'оао \"дмз\"', 'ао \"промтрактор\"', 'ао \"торговый дом казанский цум\"', 'оао \"соз\"', 'ао \"бываловский машиностроительный завод\"', 'пао \"воэ\" пао \"волгоградоблэлектро\"', 'ооо \"лента\"', 'оао \"рорз\"', 'ао  \"мехколонна\"', 'ао «смп банк»', 'ао \"мособлстрой № 5\"', 'аор \"туринский цбз\"', 'псф \"автодизель-сервис\" ао', 'ооо \"каркаде\"', 'ао \"софтлайн трейд\"', 'ао «сбербанк управление активами»', 'ао \"элион\"', 'зао «иа «московский»', 'оао \"цнииб\"', 'ао \"газпром газораспределение сыктывкар\"', 'оао \"лакша\"', 'ао \"ата\"', 'банк \"вятич\" (пао)', 'банк \"вбрр\" (ао)', 'пао «уптк «чебоксарское»', 'оао \"агп\"', 'пао \"центрторг\"', 'пао  банк \"сиаб\"', 'оао смп', 'ао «ладья-финанс»', 'ао \"атомэнергопром\"', 'пао \"каменское\"', 'пао \"мсз им. м.в. фрунзе\"', 'ао \"кпп\"', 'оао \"ум-1\"', 'ао \"самотлорнефть\"', 'оао \"нижневартовскнефть\", оао \"нвн\"', 'ао \"тизприбор\"', 'нко ао нрд', 'вэб.рф', 'пао \"сф \"алмаз\"', 'ао \"смп\"', 'пао \"сокольский цбк\"', 'ао \"роспечать\"', 'зао \"велижский леспромхоз\"', 'оао \"тд \"преображенский\"', 'пао \"исат\"', 'ооо ук \"открытие\"', 'оао \"белозернефть\"', 'ао \"фряновская фабрика\"', 'ао \"молоко\"', 'пао \"башстройтранс\"', 'ао \"нии \"элпа\"', 'ао \"донаэродорстрой\"', 'оао \"апо \"дружба\"', 'ао \"рассвет\"', 'ао \"канат\"', 'пао \"геонеруд\"', 'оао \"нпо \"гелиймаш\"', 'пао \"продтовары\"', 'оао \"комкор\"', 'заор \"нп конфил\"', 'ао \"ук тфг\"', 'пао \"протек\"', 'пао \"нижнекамскшина\"', 'ооо «ук «навигатор»', 'оао \"пятигорский завод \"импульс\"', 'ооо «гк «сегежа»', 'ао \"бск\"', 'оао \"оэврз\"', 'ао \"стиз\"', 'оао \"проф-инвест v\"', 'оао \"ваз\"', 'оао \"мордовглавснаб\"', 'ткб банк пао', 'ооо \"тинькофф капитал\"', 'ооо «управляющая компания «восток-запад»', 'пао \"тюмендорстрой\"', 'пао \"охпп\"', 'оао «текстильмаш»', 'пао \"по\"горизонт\"', 'пао \"гипросвязь\"', 'ао “вурнарский мясокомбинат”', 'ооо \"атон\"', 'ао \"заборье\"', 'оао \"элистинский трикотаж\"', 'пао гк «тнс энерго»', 'ооо «концессии водоснабжения»', 'ооо \"вита лайн\"', 'ао \"воробьево\"', 'оао пгс № 21', 'ооо \"мп свжд\"', 'пао \"мостотрест\"', 'оао \"аксайкардандеталь\"', 'ао \"автострада-центр\"', 'пао кмз', 'ао \"волга - сервис\"', 'ооо «каскад»', 'оао \"исток\"', 'рнкб банк (пао)', 'пао \"свк вднх\"', 'оао \"гсп № 1\"', 'пао московская биржа', 'оао гсп №24', 'ао «сгэм»', 'пао \"чмк\"', 'ао \"зио\"', 'оао \"ахтырский хлебозавод\"', 'оао \"мжк \"краснодарский\"', 'пао \"телемеханика\"', 'зао \"кировский конный завод\"', 'ао \"деревообработка\"', 'ао \"смоленский док\"', 'оао \"газпром газораспределение воронеж\"', 'пао \"нормаль\"', 'ооо \"концессии теплоснабжения\"', 'polymetal international plc', 'ао ук \"бкс\"', 'банк \"траст\" (пао)', 'пао \"уралавтоприцеп\"', 'ао втб капитал управление активами', 'пао \"дорисс\"', 'оао \"бамтранстехмонтаж\"', 'пао \"строймеханизация\"', 'пао \"прииск дамбуки\"', 'ооо \"инвектор\"', 'ао \"саратовгаз\"', 'ао кмп \"промжелдортранс\"', 'ао \"авар\"', 'пао «рн-западная сибирь»', 'оао \"арз\"', 'оао \"тпк\"', 'ооо \"профит-гарант\"', 'ооо ук «система капитал»', 'пао \"нк \"роснефть\"-алтайнефтепродукт\"', 'оао \"ивановская \"райсельхозхимия\"', 'пао \"акрон\"', 'оао \"апо \"муза\"', 'ооо \"ук \"агана\"', 'пао акб \"металлинвестбанк\"', 'банк втб (пао)', 'ао \"родник\"', 'оао мск \"серышевский\"', 'ооо  «регион траст»', 'ао \"кызылский хлебокомбинат\"', 'пао \"лента\"', 'ооо \"ноябрьская пгэ\"', 'моао \"седин\"', 'пао \"пк \"гермес-союз\"', 'ао \"сомз\"', 'пао \"кгк\"', 'ао \"росэлко\"', 'пао иск \"домостроитель\"', 'ао \"консервный завод \"саранский\"', 'оао \"старт-терминал\"', 'оао «мжс»', 'ао \"волгогазоаппарат\"', 'ооо \"промкапитал\"', 'оао \"кзх \"бирюса\"', 'ооо \"роял капитал\"', 'оао \"завод старт\"', 'оао \"орп\"', 'оао \"нфзпм\"', 'пао \"юк грэс\"', 'зао \"птицефабрика оренбургская\"', 'ооо \"диджитал инвест\"', 'пао акб \"авангард\"', 'пао \"продмонтаж\"', 'оао \"зчз\"', 'ооо \"синх-финанс\"', 'оао \"автотрансбыт\"', 'ао \"уралэлектромедь\"', 'ао \"белзан\"', 'пао \"осф\"', 'оао \"климовское хпп\"', 'зао \"дон - 1\"', 'ао \"юлк\"', 'ооо «кисточки финанс»', 'оао \"бкз\"', 'ао \"авиаагрегат\"', 'пао \"цкб \"айсберг\"', 'пао \"лензолото\"', 'ао \"полиграфоформление\", ао \"полиграф\", ао \"поф\"', 'ооо \"держава-платформа\"', 'оао \"востокремстрой\"', 'ао \"автострада\"', 'ао \"учалинский гок\"', 'пао \"варьеганнефтегаз\"', 'ао \"металлист-самара\"', 'оао \"автоколонна № 1131\"', 'ао \"мз \"сапфир\"', 'оао \"коммунэнерго\"', 'пао \"бксм\"', 'ао банк \"национальный стандарт\"', 'ао \"первомайскхиммаш\"', 'оао \"интеллект капитал\"', 'пао \"группа лср\"', 'ао \"бийский аэропорт\"', 'оао \"валерия\"', 'оао \"тдск\"', 'ао \"экспоцентр\"', 'ао \"альфа-банк\"', 'пао \"продторг\"', 'пао \"коломнатекмаш\"', 'пао \"мпсм\"', 'пао \"уральский завод эма\"', 'ао рти', 'оао \"завод \"реконд\"', 'пао \"нижкомплект\"', 'оао \"мшз\"', 'ооо «регион-инвест»', 'оао \"институт корпоративного управления”', 'оао \"ммк-метиз\"', 'пао афхп \"сардаана\"', 'пао \"супер\"', 'оао \"сзтт\"', 'оао \"трехгорная мануфактура\"', 'ооо тп \"кировский\"', 'ао \"завод \"экран\"', 'пао \"туланефтепродукт\"', 'оао «пдск»', 'ао \"озёры\"', 'ао \"сарэкс\"', 'ао \"ивановогоргаз\"', 'пао \"скб-банк\"', 'ао \"третий парк\"', 'пао \"рэск\"', 'пао иф \"аз-капитал\"', 'оао \"речной порт улан-удэ\"', 'пао \"чтпз\"', 'оао \"металлист\"', 'ооо \"эбис\"', 'пао \"отм\"', 'оао ттк \"кросно\"', 'пао \"ксм-10\"', 'пао \"перовский комбинат строительных материалов\"', 'ао \"мсп банк\"', 'ао \"смт\"', 'пао аак \"прогресс\"', 'ао \"одк\"', 'пао ак \"рубин\"', 'пао \"туполев\"', 'оао \"сахалиноблгаз\"', 'оао \"ум-3\"', 'оао \"экскавация\"', 'тисиэс груп холдинг пиэлси', 'сао \"вск\"', 'ао \"юаиз\"', 'ао \"борремфлот\"', 'ооо \"кузина\"', 'пао «гк «самолет»', 'ао \"авт\"', 'оао \"чшф \"одежда\"', 'оао \"исеть-фонд\"', 'ао \"механизатор\"', 'оао \"дубитель\"', 'государственная компания \"автодор\"', 'ао \"пнити\"', 'пао \"ктк\"', 'ао \"коломенский завод\"', 'оао мту \"орион\"', 'оао \"гатп\"', 'пао \"южный кузбасс\"', 'оао омпо \"радиозавод им.а.с.попова\" (релеро)', 'ао   \"кинотеатр центральный\"', 'пао «трансконтейнер»', 'пао \"армада\"', 'ао \"пэс\"', 'пао \"кубаньэнерго\"', 'эталон груп пиэлси (etalon group plc)', 'ао «тулаточмаш»', 'ао \"бикз\"', 'пао \"мрск волги\"', 'пао \"россети северный кавказ\"', 'ао \"гидроагрегат\"', 'ао «волгоградгоргаз»', 'ао \"комбинат стройконструкция\"', 'пао \"варяг\", пао \"завод \"варяг\"', 'пао \"белуга групп\"', 'пао \"асз\"', 'ооо \"хкф банк\"', 'оао \"весна-23\"', 'пао \"кировский завод \"маяк\"', 'ао \"иргиредмет\"', 'оао \" дубитель \"', 'оао \"абс зэим автоматизация\"', 'оао \"тепловые сети\"', 'ао\"омскавтотранс\"', 'ао корпорация \"нечерноземагропромстрой\"', 'ао \"себряковцемент\"', 'пао сз \"экран\"', 'пао свт', 'банк \"возрождение\" (пао)', 'пао «россети юг»', 'оао \"алтайкрайгазсервис\"', 'пао \"челябинвестбанк\"', 'оао \"мрск урала\"', 'пао \"варьеганнефть\"', 'пао \"коршуновский гок\"', 'оао \"амурфармация\"', 'пао акб \"приморье\"', 'оао \"анадырьморпорт\"', 'пао \"сахалинэнерго\"', 'пао \"нк \"роснефть\"-дагнефть\"', 'оао «вязниковский леспромхоз»', 'ооо «магистраль двух столиц»', 'оао \"завод элкап\"', 'пао \"саратовэнерго\"', 'ооо \"рольф\"', 'пао \"дэникомо групп\"', 'пао \"зки\"', 'пао \"богучанская гэс\"', 'пао \"пбтф\"', 'ао \"красногорское\"', 'ао \"маслокомбинат чановский\"', 'ао скб вт \"искра\"', 'зао  \"петродворцовое\"', 'оао \"ку \"венцы-заря\"', 'ао \"промжелдортранс\"', 'ао \"центртрубопроводстрой\"', 'ооо \"станция\"', 'ао \"гарант-сервис\"', 'ао \"гпб — уа\"', 'ооо \"мигкредит\"', 'ао \"национальный капитал\"', 'пао сбербанк', 'пао \"газпром нефть\"', 'ооо \"гтлк-1520\"', 'пао «нк «роснефть»', 'мкпао «эн+ груп»', 'ооо «сфо русол 1»', 'ао \"краснодарстрой\"', 'инг банк (евразия) ао', 'ао \"нащекино\"', 'оао \"апк \"константиново\"', 'ао \"опытное производство\"', 'пао нк \"русснефть\"', 'ао \"тбилисское гатп\"', 'пао \"гмк \"норильский никель\"', 'ооо \"жилкапинвест\"', 'пао \"тмк\"', 'пао «компания «сухой»', 'ооо «авенир»', 'пао \"пензмаш\"', 'пао \"группа черкизово\"', 'пао “совкомфлот”', 'пао \"морион\"', 'спао \"ресо-гарантия\"', 'акб \"держава\" пао', 'оао \"кумз\"', 'оао \"авангард\"', 'пао \"арго-инвест\"', 'ао \"вертолеты россии\"', 'ооо \"ред софт\"', 'кб \"миа\" (ао)', 'оао \"мюз\"', 'оао \"росместпром\"', 'ао \"сельэлектросетьстрой\"', 'пао «кмз»', 'пао \"московский кредитный банк\"', 'ооо «ук «райффайзен капитал»', 'ооо \"дэни колл\"', 'пао \"новатэк\"', 'ао \"тгм групп\"', 'пао \"кюп\"', 'пао \"саратовнефтегаз\"', 'оао \"цнита\"', 'зао \"электросигнал\"', 'оао \"уралтрансстрой\"', 'ооо \"агрофирма \"рубеж\"', 'ао \"трест гидромонтаж\"', 'ак \"алроса\" (пао)', 'оао \"завод радиоаппаратуры\"', 'ооо \"делопортс\"', 'ао \"патп-2\"', 'оао \"аэропорт ростов-на-дону\"', 'пао \"гскб\"', 'оао мто \"лазурь\"', 'ао \"1 мпз им. в.а. казакова\"', 'зао \"спиринское\"', 'оао \"внипинефть\"', 'x5 retail group', 'ао \"трест мурманскморстрой\"', 'оао \"инвестор\"', 'пао ставропольпромстройбанк', 'оао \"удмуртнефть\"', 'ооо \"финконсалт\"', 'пао \"уралкалий\"', 'оао \"ржд\"', 'пао \"тулачермет\"', 'пао \"санкт-петербургская биржа\" или пао \"спб\"', 'оао «сервис-люкс»', 'пао \"норвик банк\"', 'пао \"полюс\"', 'пао \"атп яэ-холдинг\"', 'ао банк \"онего\"', 'оао \"вяткаагроснаб\"', 'ао \"цэчм\"', 'ао им. н.е. токарликова', 'оао \"рикор электроникс\"', 'ооо \"трейдберри\"', 'пао \"тд \"холдинг-центр\"', 'пао \"аэропорт кольцово\"', 'пао \"инэум им. и.с. брука\"', 'ао \"ломо\"', 'пао \"форест\"', 'оао \"фабрика производства платков\"', 'пао \"мордовская энергосбытовая компания\"; пао \"мордовэнергосбыт\"', 'ооо специализированный застройщик \"ск легион\"', 'пао \"промсвязьбанк\"', 'пао \"муссон\"', 'пао \"сн-мнг\"', 'пао \"одк-кузнецов\"', 'ао \"домодедовская инициатива\"', 'пао \"ижорские заводы\"', 'оао \"терминал астафьева\"', 'ао \"завод автосвет\"', 'оао \"сыродел\"', 'ао \"полимер\"', 'инженерно-технический центр оао \"вега\"', 'ао пи кчапп', 'ао \"пиинии вт \"ленаэропроект\"', 'ао \"банк интеза\"', 'пао \"витабанк\"', 'оао инвестсервис', 'пао \"гк \"космос\"', 'пао \"завод \"радиоприбор\"', 'ао «по «уомз»', 'ао \"энергопром\"', 'ооо \"фэс-агро\"', 'ао \"нижегородский водоканал\"', 'ао \"автоколонна-1425\"', 'пао \"корпорация \"иркут\"', 'зао \"агрофирма \"победа\"', 'зао «племзавод «александрово»', 'пао \"барановское\"', 'оао мвц “интерсиб\"', 'ао \"паижк\"', 'пао «гусь-агро»', 'ао \"красный перекоп\"', 'оао нпо \"химавтоматика\"', 'зао \"левокумское\"', 'пао \"инвест-девелопмент\"', 'оао \"дск\"', 'пао \"оирп\"', 'ао \"ифкур-забота\"', 'пао \"меткомбанк\"', 'оао «мосстройпрогресс»', 'ао «феодосийское атп № 14312»', 'ао \"пензенское объединение автовокзалов\"', 'ао спк \"смоленскагропромдорстрой\"', 'пао \"ясз\"', 'ооо \"техно лизинг\"', 'ао \"перлит\"', 'ао \"газпром газораспределение киров\"', 'ао \"микротехника\"', 'оао \"дорожное эксплуатационное предприятие №184\"', 'ооо \"пионер-лизинг\"', 'оао \"бзрто\"', 'ао \"ярстройтехника\"', 'зао «краус-м»', 'оао \"колос\"', 'ао \"северное пкб\"', 'оао внипи тяжпромэлектропроект', 'оао \"суземское ртп\"', 'зао «ламбумиз»', 'ао \"газпром газораспределение саратовская область\"', 'оао э и э \"ростовэнергоремонт\"', 'ао \"тула-лихвинское хпп\"', 'оао \"молком\"', 'пао \"радиофизика\"', 'пао \"мтс-банк\"', 'ао \"омречпорт\"', 'пао \"электромеханика\"', 'зао \"ипотечный агент мтсб\"', 'оао завод \"пролетарская свобода\"', 'ао \"нгпи\"', 'оао \"колесп\"', 'пао \"нк \"роснефть\" - мз \"нефтепродукт\"', 'ао \"радуга\"', 'оао \"чкаловское дрсу\"', 'ао \"сокольская судоверфь\"', 'ао тгк \"измайлово\"', 'пао \"чкпз\"', 'пао \"евразийский банк\"', 'оао \"товары для народа\"', 'зао \"агат\"', 'ао \"нии тм\"', 'оао \"тверьпродторг\"', 'пао \"гипротюменнефтегаз\"', 'пао “северный текстиль”', 'ао \"краснодаргазстрой\"', 'оао \"дса\"', 'оао \"эпром\"', 'пао сму  \"жуковскстрой\"', 'ао \"молоко\"', 'оао \"каравай\"', 'ао \"кушелевский хлебозавод\"', 'ао \"комз-байгыш\"', 'ао \"свердниихиммаш\"', 'ооо мфк «кармани»', 'ао \"аш-су\"', 'пао \"электроприбор\"', 'ао «тпгк-финанс»', 'ао \"новосибирскэнергосбыт\"', 'ao \"агрофирма \"феникс\"', 'ооо \"икс 5 финанс\"', 'ао \"по \"бежицкая сталь\"', 'ао фц \"народный\"', 'ао \"мелькомбинат №4\"', 'ооо «л си пи инвестор сервисез»', 'пао \"ак барс\" банк', 'пао \"передвижная энергетика\"', 'оао рс серного завода', 'ао \"завод кпд-2\"', 'ао \"гипроспецгаз\"', 'ооо «сфо «сб структурные продукты»', 'пао \"фосагро\"', 'ао \"электроавтомат\"', 'ао уфимский завод \"электроаппарат\"', 'морской банк (ао)', 'пао \"птицефабрика \"боровская\"', 'пао \"линейный\"', 'пао \"сигнал\"', 'ооо «обувь россии»', 'пао \"сэс\"', 'ао \"кбал им. л.н.кошкина\"', 'ао \"кмпо\"', 'ао \"сорбент\"', 'пао \"высочайший\"', 'ооо \"дядя дёнер\"', 'оао \"чурачикское\"', 'оао \"амф\"', 'ао \"мордовский элеватор\"', 'пао \"земля-инвест\"', 'пао \"акибанк\"', 'ао \"пуринвест\"', 'ао \"вознесенская рэб флота\"', 'оао \"нзра\"', 'оао \"чувашхмельпром\"', 'зао \"восточно - сибирский ипотечный агент 2012\"', 'зао «иа акбарс»', 'оао \"пктф \"чувашбыттехсервис\"', 'пао \"нзк\"', 'ао \"нефтекамский хлебокомбинат\"', 'пао \"донтрансавто\"', 'вао \"русская березка\"', 'оао \"алмаз\"', 'ооо \"электрощит-стройсистема\"', 'ооо \"ркт\"', 'оао \"павловопосадская платочная мануфактура\"', 'ао \"гк \"жемчужина\"', 'пао \"пнппк\"', 'оао \"лебедяньавто\"', 'ао \"электроагрегат\"', 'ао  \"белар\"', 'оао \"воронежская кондитерская фабрика\"', 'оао \"цнпо \"ленинец\"', 'оао \"биохиммаш\"', 'ао \"сфера жилья\"', 'оао \"твэкс\"', 'оао «империал»', 'ао апри \"флай плэнинг\"', 'ао \"лента\"', 'ао \"яапп\"', 'пао \"роствертол\"', 'оао \"тюменнефтекомплектсервис\"', 'ао атп-1 «оапст»', 'оао \"ниисантехники\"', 'пао \"строймаш\"', 'ооо нпп \"моторные технологии\"', 'ао \"ск \"эпрон-8\"', 'спао \"ингосстрах\"', 'оао \"вурнарская ипс\"', 'оао \"птицестрой\"', 'ао \"бгатп №3\"', 'оао \"юрьев-польскийсельхозхимия\"', 'оао \"такф\"', 'ао \"энергоцентр\"', 'оао \"бзжби\"', 'зао \"сигма-газ\"', 'гуп \"жкх рс(я)\"', 'оао \"лзжби\"', 'зао \"сыркомбинат \"тихорецкий\"', 'ао \"теплосеть\" г. невинномысск', 'оао \"нии электромера\"', 'оао мрмз \"промавторемонт\"', 'ао \"борхиммаш\"', 'ао \"таймыргеофизика\"', 'пао \"детский мир\"', 'оао \"промсвязь\"', 'оао \"у-у ппо\"', 'ао \"теле2-санкт-петербург\"', 'ао \"водтрансприбор\"', 'оао \"су-7 смт\"', 'ао \"рн-влакра\"', 'пао \"татнефть\" им. в.д.шашина', 'пао \"нк \"роснефть\" - мурманскнефтепродукт\"', 'пао \"монтаж\"', 'пао \"уралпромпроект\"', 'ао \"полет\"', 'ао \"чеховстрой\"', 'ао \"башкиргеология\"', 'пао \"магнит\"', 'оао \"сахафармация\"', 'ао \"стронег\"', 'ао \"по \"севмаш\"', 'пао \"газ\"', 'ао \"фпк\"', 'оао \"дальсистема\"', 'пао \"огк-2\"', 'пао «интер рао»', 'пао \"нмтп\"', 'пао \"гидроавтоматика\"', 'оао \"атп \"левобережное\"', 'ооо \"пр-лизинг\"', 'оао \"автомобилист-1\"', 'ао \"фритекс\"', 'ао \"тавдинский хлебозавод\"', 'пао «фск еэс»', 'пао \"сафмар финансовые инвестиции\"', 'ао \"банк дом.рф\"', 'пао \"приморавтотранс\"', 'пао \"кокс\"', 'оао \"юмк\"', 'оао \"кормз\"', 'пао «мрск центра»', 'оао \"кожгалантерея\"', 'пао \"чт\"', 'ооо \"экспобанк\"', 'оао уральский капитал\"', 'оао \"электроприбор\"', 'пао \"реатон\"', 'оао \"сахмп\"', 'ао \"рмк\"', 'пао \"ятэк\"', 'оао \"нити \"прогресс\"', 'оао \"ирбитский химфармзавод\"', 'пао \"кувандыкский завод кпо \"долина\"', 'оао  \"протон-инвест\"', 'оао \"ивановострой\"', 'ао \"мбк-с\"', 'ооо \"оаэ\"', 'ооо тд \"мясничий\"', 'ооо «тревеч – представитель»', 'ао “тпк”', 'ооо «тд ркс-сочи»', 'ао \"дорснаб\"', 'пао \"тм\"', 'пао \"запсибкомбанк\"', 'евразийский банк развития', 'пао афк \"система\"', 'ооо \"рг лизинг\"', 'оао \"эй джи си бсз\"', 'ао \"дальтрансгаз\"', 'оао \"механизатор\"', 'ао \"цэрс и нт рс(я)\"', 'оао \"кжс\"', 'оао \"томскагропромпроект\"', 'ооо «о1 груп финанс»', 'пао «мо»', 'пао \"русский север\"', 'оао \"усалиагрохимсервис\"', 'пао \"пмсрз\"', 'оао \"вниимонтажспецстрой\"', 'оао \"упк орел гту\".', 'ао \"завод \"экомаш\"', 'ао лк \"зерно сибири\"', 'пао \"иcкч\"', None]\n"
     ]
    }
   ],
   "source": [
    "print(companies)"
   ]
  },
  {
   "cell_type": "code",
   "execution_count": 4,
   "metadata": {},
   "outputs": [
    {
     "ename": "NameError",
     "evalue": "name 'diction' is not defined",
     "output_type": "error",
     "traceback": [
      "\u001b[1;31m---------------------------------------------------------------------------\u001b[0m",
      "\u001b[1;31mNameError\u001b[0m                                 Traceback (most recent call last)",
      "\u001b[1;32m<ipython-input-4-703c277598d4>\u001b[0m in \u001b[0;36m<module>\u001b[1;34m\u001b[0m\n\u001b[1;32m----> 1\u001b[1;33m \u001b[0mprint\u001b[0m\u001b[1;33m(\u001b[0m\u001b[0mdiction\u001b[0m\u001b[1;33m)\u001b[0m\u001b[1;33m\u001b[0m\u001b[1;33m\u001b[0m\u001b[0m\n\u001b[0m",
      "\u001b[1;31mNameError\u001b[0m: name 'diction' is not defined"
     ]
    }
   ],
   "source": [
    "print(diction)"
   ]
  },
  {
   "cell_type": "code",
   "execution_count": null,
   "metadata": {},
   "outputs": [],
   "source": []
  },
  {
   "cell_type": "code",
   "execution_count": null,
   "metadata": {},
   "outputs": [],
   "source": []
  },
  {
   "cell_type": "markdown",
   "metadata": {},
   "source": [
    "# Finished Modules"
   ]
  },
  {
   "cell_type": "markdown",
   "metadata": {},
   "source": [
    "## Companies_List"
   ]
  },
  {
   "cell_type": "code",
   "execution_count": null,
   "metadata": {},
   "outputs": [],
   "source": [
    "url = 'https://www.e-disclosure.ru/poisk-po-soobshheniyam'\n",
    "\n",
    "driver = webdriver.Firefox()\n",
    "driver.implicitly_wait(30)\n",
    "driver.get(url)\n",
    "\n",
    "python_button = driver.find_element_by_id('butt') #FHSU\n",
    "python_button.click() #click fhsu link\n",
    "\n",
    "python_button2 = driver.find_element_by_id('pageSize')\n",
    "python_button2.click()\n",
    "\n",
    "soup = bs(driver.page_source, 'lxml')\n",
    "res = soup.find_all('a')\n",
    "# select all the relevant passages from the table. Empirically found them.\n",
    "companies = {}\n",
    "for a  in range(46,2445,2):\n",
    "#     remove comma only when need to create a dict\n",
    "#     companies[res[a].text] = res[a].get('href')[-5:]\n",
    "    print(res[a].text, res[a].get('href'))\n",
    "\n",
    "driver.quit()\n",
    "\n",
    "for i in companies.keys():\n",
    "    if companies[i].startswith('='):\n",
    "        companies[i] = companies[i].replace('=','')\n",
    "\n",
    "    if companies[i].startswith('d='):\n",
    "        companies[i] = companies[i].replace('d=','')\n",
    "companies"
   ]
  },
  {
   "cell_type": "code",
   "execution_count": null,
   "metadata": {},
   "outputs": [],
   "source": [
    "company = list(companies.keys())\n",
    "comp_id = list(companies.values())\n",
    "\n",
    "data = {'company':company, 'comp_id':comp_id}\n",
    "df = pd.DataFrame.from_dict(data)\n",
    "df"
   ]
  },
  {
   "cell_type": "code",
   "execution_count": null,
   "metadata": {},
   "outputs": [],
   "source": [
    "# df.to_csv('interfax_companies.csv', encoding = 'windows - 1251')"
   ]
  },
  {
   "cell_type": "code",
   "execution_count": null,
   "metadata": {},
   "outputs": [],
   "source": []
  },
  {
   "cell_type": "markdown",
   "metadata": {},
   "source": []
  },
  {
   "cell_type": "code",
   "execution_count": null,
   "metadata": {},
   "outputs": [],
   "source": []
  }
 ],
 "metadata": {
  "kernelspec": {
   "display_name": "Python 3",
   "language": "python",
   "name": "python3"
  },
  "language_info": {
   "codemirror_mode": {
    "name": "ipython",
    "version": 3
   },
   "file_extension": ".py",
   "mimetype": "text/x-python",
   "name": "python",
   "nbconvert_exporter": "python",
   "pygments_lexer": "ipython3",
   "version": "3.7.4"
  }
 },
 "nbformat": 4,
 "nbformat_minor": 2
}
